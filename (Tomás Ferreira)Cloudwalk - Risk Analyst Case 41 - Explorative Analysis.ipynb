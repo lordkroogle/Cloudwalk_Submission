{
 "cells": [
  {
   "cell_type": "markdown",
   "id": "7a25db64",
   "metadata": {},
   "source": [
    "# Cloudwalk - Risk Analyst Case 41 - Explorative Analysis"
   ]
  },
  {
   "cell_type": "markdown",
   "id": "877a2622",
   "metadata": {},
   "source": [
    "## 1. General properties of the data set"
   ]
  },
  {
   "cell_type": "code",
   "execution_count": 1,
   "id": "b12725da",
   "metadata": {
    "scrolled": true
   },
   "outputs": [
    {
     "name": "stdout",
     "output_type": "stream",
     "text": [
      "\n",
      "Data shape:  (3199, 8)\n",
      "\n",
      "Number of duplicated rows:  0\n",
      "\n",
      "Missing Values in each column:\n",
      "\n",
      "\t device_id 830 25.95%\n",
      "\n",
      "Number of unique values in each column:\n",
      "\n",
      "\tColumn 0 :  3199\n",
      "\tColumn 1 :  1756\n",
      "\tColumn 2 :  2704\n",
      "\tColumn 3 :  2925\n",
      "\tColumn 4 :  3199\n",
      "\tColumn 5 :  3124\n",
      "\tColumn 6 :  1996\n",
      "\tColumn 7 :  2\n"
     ]
    }
   ],
   "source": [
    "# Initial imports and shorthand definitions\n",
    "import numpy as np\n",
    "import pandas as pd\n",
    "import matplotlib.pyplot as plt\n",
    "import seaborn as sns\n",
    "import datetime\n",
    "from IPython.display import display\n",
    "\n",
    "%matplotlib inline\n",
    "\n",
    "# Load the dataset\n",
    "transactions = pd.read_csv('transactional-sample.csv')\n",
    "\n",
    "# Print the shape of the dataset (lines, columns)\n",
    "print('\\nData shape: ', transactions.shape)\n",
    "        \n",
    "# Count duplicated rows\n",
    "df = pd.DataFrame(transactions)\n",
    "bool_series = df.duplicated(keep ='first')\n",
    "print('\\nNumber of duplicated rows: ', sum(bool_series))\n",
    "\n",
    "# Count the missing values in each column\n",
    "print('\\nMissing Values in each column:')\n",
    "for col in transactions.columns:\n",
    "    missing_transactions = transactions[col].isnull().sum()\n",
    "    if missing_transactions > 0:\n",
    "        print('\\n\\t',col, missing_transactions, \"{0:.2%}\".format(missing_transactions / transactions.shape[0]))\n",
    "\n",
    "# Count the distinct values in each column\n",
    "print('\\nNumber of unique values in each column:\\n')\n",
    "index = 0\n",
    "for col in transactions.nunique():\n",
    "    print('\\tColumn', index, ': ', col)\n",
    "    index += 1"
   ]
  },
  {
   "cell_type": "markdown",
   "id": "356d2ab9",
   "metadata": {},
   "source": [
    "From this initial analysis, we have established that our data set has no duplicated rows and the only column which has missing items is the one concerning the so called `device_id`.\n",
    "\n",
    "In addition, the final output indicates that 'Column 0' and 'Column 4' are good candidates for the primary key, since they are composed entirely of unique entries.\n",
    "\n",
    "To find which candidate is better suited for this role, we must establish the meaning of each column."
   ]
  },
  {
   "cell_type": "code",
   "execution_count": 2,
   "id": "c731d5e2",
   "metadata": {
    "scrolled": false
   },
   "outputs": [
    {
     "name": "stdout",
     "output_type": "stream",
     "text": [
      "\n",
      "Column data types:\n",
      "\n",
      "\tColumn 0 :  int64\n",
      "\tColumn 1 :  int64\n",
      "\tColumn 2 :  int64\n",
      "\tColumn 3 :  object\n",
      "\tColumn 4 :  object\n",
      "\tColumn 5 :  float64\n",
      "\tColumn 6 :  float64\n",
      "\tColumn 7 :  bool\n"
     ]
    },
    {
     "data": {
      "text/html": [
       "<div>\n",
       "<style scoped>\n",
       "    .dataframe tbody tr th:only-of-type {\n",
       "        vertical-align: middle;\n",
       "    }\n",
       "\n",
       "    .dataframe tbody tr th {\n",
       "        vertical-align: top;\n",
       "    }\n",
       "\n",
       "    .dataframe thead th {\n",
       "        text-align: right;\n",
       "    }\n",
       "</style>\n",
       "<table border=\"1\" class=\"dataframe\">\n",
       "  <thead>\n",
       "    <tr style=\"text-align: right;\">\n",
       "      <th></th>\n",
       "      <th>transaction_id</th>\n",
       "      <th>merchant_id</th>\n",
       "      <th>user_id</th>\n",
       "      <th>card_number</th>\n",
       "      <th>transaction_date</th>\n",
       "      <th>transaction_amount</th>\n",
       "      <th>device_id</th>\n",
       "      <th>has_cbk</th>\n",
       "    </tr>\n",
       "  </thead>\n",
       "  <tbody>\n",
       "    <tr>\n",
       "      <th>0</th>\n",
       "      <td>21320398</td>\n",
       "      <td>29744</td>\n",
       "      <td>97051</td>\n",
       "      <td>434505******9116</td>\n",
       "      <td>2019-12-01T23:16:32.812632</td>\n",
       "      <td>374.56</td>\n",
       "      <td>285475.0</td>\n",
       "      <td>False</td>\n",
       "    </tr>\n",
       "    <tr>\n",
       "      <th>1</th>\n",
       "      <td>21320399</td>\n",
       "      <td>92895</td>\n",
       "      <td>2708</td>\n",
       "      <td>444456******4210</td>\n",
       "      <td>2019-12-01T22:45:37.873639</td>\n",
       "      <td>734.87</td>\n",
       "      <td>497105.0</td>\n",
       "      <td>True</td>\n",
       "    </tr>\n",
       "    <tr>\n",
       "      <th>2</th>\n",
       "      <td>21320400</td>\n",
       "      <td>47759</td>\n",
       "      <td>14777</td>\n",
       "      <td>425850******7024</td>\n",
       "      <td>2019-12-01T22:22:43.021495</td>\n",
       "      <td>760.36</td>\n",
       "      <td>NaN</td>\n",
       "      <td>False</td>\n",
       "    </tr>\n",
       "    <tr>\n",
       "      <th>3</th>\n",
       "      <td>21320401</td>\n",
       "      <td>68657</td>\n",
       "      <td>69758</td>\n",
       "      <td>464296******3991</td>\n",
       "      <td>2019-12-01T21:59:19.797129</td>\n",
       "      <td>2556.13</td>\n",
       "      <td>NaN</td>\n",
       "      <td>True</td>\n",
       "    </tr>\n",
       "    <tr>\n",
       "      <th>4</th>\n",
       "      <td>21320402</td>\n",
       "      <td>54075</td>\n",
       "      <td>64367</td>\n",
       "      <td>650487******6116</td>\n",
       "      <td>2019-12-01T21:30:53.347051</td>\n",
       "      <td>55.36</td>\n",
       "      <td>860232.0</td>\n",
       "      <td>False</td>\n",
       "    </tr>\n",
       "  </tbody>\n",
       "</table>\n",
       "</div>"
      ],
      "text/plain": [
       "   transaction_id  merchant_id  user_id       card_number  \\\n",
       "0        21320398        29744    97051  434505******9116   \n",
       "1        21320399        92895     2708  444456******4210   \n",
       "2        21320400        47759    14777  425850******7024   \n",
       "3        21320401        68657    69758  464296******3991   \n",
       "4        21320402        54075    64367  650487******6116   \n",
       "\n",
       "             transaction_date  transaction_amount  device_id  has_cbk  \n",
       "0  2019-12-01T23:16:32.812632              374.56   285475.0    False  \n",
       "1  2019-12-01T22:45:37.873639              734.87   497105.0     True  \n",
       "2  2019-12-01T22:22:43.021495              760.36        NaN    False  \n",
       "3  2019-12-01T21:59:19.797129             2556.13        NaN     True  \n",
       "4  2019-12-01T21:30:53.347051               55.36   860232.0    False  "
      ]
     },
     "execution_count": 2,
     "metadata": {},
     "output_type": "execute_result"
    }
   ],
   "source": [
    "# Identify the data types of each column\n",
    "print('\\nColumn data types:\\n')\n",
    "index = 0\n",
    "for col in transactions.dtypes:\n",
    "    print('\\tColumn', index, ': ', col)\n",
    "    index += 1\n",
    "    \n",
    "# Top rows of the data\n",
    "transactions.head()"
   ]
  },
  {
   "cell_type": "markdown",
   "id": "92931d9a",
   "metadata": {},
   "source": [
    "From the header, we observe that the only numeric columns are `transaction_date` and `transaction_amount`. Furthermore, since the former is the precise time at which the transaction took place, we shall leave it alone for the moment."
   ]
  },
  {
   "cell_type": "code",
   "execution_count": 3,
   "id": "59016541",
   "metadata": {},
   "outputs": [
    {
     "data": {
      "text/plain": [
       "count    3199.000000\n",
       "mean      767.812904\n",
       "std       889.095904\n",
       "min         1.220000\n",
       "25%       205.235000\n",
       "50%       415.940000\n",
       "75%       981.680000\n",
       "max      4097.210000\n",
       "Name: transaction_amount, dtype: float64"
      ]
     },
     "execution_count": 3,
     "metadata": {},
     "output_type": "execute_result"
    }
   ],
   "source": [
    "# Statistical properties of the transaction_amount\n",
    "transactions['transaction_amount'].describe()"
   ]
  },
  {
   "cell_type": "markdown",
   "id": "3eaef7f0",
   "metadata": {},
   "source": [
    "The general context of our data is that it pertains to a sample of transactions between merchants (`merchant_id`) and customers (`user_id`). Our goal is to identify which of these transactions are suspicious, that is, which of them are likely to be fraudulent. The meaning of each column is as follows:\n",
    "\n",
    "- <b>`transaction_id`: Unique identifier of each transaction (our primary key).</b>\n",
    "\n",
    "- <b>`merchant_id`: Unique identifier of each registered merchant.</b>\n",
    "\n",
    "- <b>`user_id`: Unique identifier of each registered customer.</b>\n",
    "\n",
    "- <b>`card_number`: Credit card number used by the customer in the transaction.</b>\n",
    "\n",
    "- <b>`transaction_date`: Precise time at which the transaction took place.</b>\n",
    "\n",
    "- <b>`transaction_amount`: Amount charged by the merchant to the customer's card. The currency of the transactions was not specified.</b>\n",
    "\n",
    "- <b>`device_id`: At this stage, we do not know if this refers to the merchant's point of sale (POS) terminal or if - in the case of online purchases - it refers to the device (computer, mobile phone) used by the customer to carry out the purchase.</b>\n",
    "\n",
    "- <b>`has_cbk`: Chargeback status of the transaction. That is, if a customer (`user_id`) requested a chargeback on their payment to the issuer of their card. Since we are interested in <u>chargeback fraud</u>, the degree of 'suspicion' of a given transaction will be based on the comparison between purchases of negative chargeback status (-cbk) and positive chargeback status (+cbk).</b>\n",
    "\n",
    "\n",
    "For the moment, we do not have the means to settle the ambiguity on the `device_id` column, so we keep this information as a reminder for subsequent analysis.\n",
    "\n",
    "Continuing the broad analysis, we observe from the header of the data set that Column 4 is in the wrong format (it should be set do the `datetime` type)."
   ]
  },
  {
   "cell_type": "code",
   "execution_count": 4,
   "id": "e7d7a815",
   "metadata": {
    "scrolled": false
   },
   "outputs": [
    {
     "data": {
      "text/plain": [
       "0   2019-12-01 23:16:32.812632\n",
       "1   2019-12-01 22:45:37.873639\n",
       "2   2019-12-01 22:22:43.021495\n",
       "3   2019-12-01 21:59:19.797129\n",
       "4   2019-12-01 21:30:53.347051\n",
       "Name: transaction_date, dtype: datetime64[ns]"
      ]
     },
     "execution_count": 4,
     "metadata": {},
     "output_type": "execute_result"
    }
   ],
   "source": [
    "transactions['transaction_date'] = transactions['transaction_date'].apply(pd.to_datetime, errors='coerce')\n",
    "transactions['transaction_date'].head()"
   ]
  },
  {
   "cell_type": "markdown",
   "id": "d06325bd",
   "metadata": {},
   "source": [
    "## 2. Planning the Analysis"
   ]
  },
  {
   "cell_type": "markdown",
   "id": "764b7050",
   "metadata": {},
   "source": [
    "Given our assumption that we are only probing information on <b>chargeback fraud</b>, we expect only transactions with positive chargeback status to be possibly suspicious. Therefore, the degree of suspicion will be measured in how positive chargeback (+cbk) transactions deviate with respect to the statistical behavior of negative chargeback (-cbk) transactions. "
   ]
  },
  {
   "cell_type": "markdown",
   "id": "8076e4fc",
   "metadata": {},
   "source": [
    "### 2.1. Organizing the data set"
   ]
  },
  {
   "cell_type": "markdown",
   "id": "e1a7ce39",
   "metadata": {},
   "source": [
    "Since humans function on a day-to-day basis, it might be useful to organize our data in groups of days and hours of day."
   ]
  },
  {
   "cell_type": "code",
   "execution_count": 5,
   "id": "1a38969d",
   "metadata": {
    "scrolled": true
   },
   "outputs": [
    {
     "data": {
      "text/html": [
       "<div>\n",
       "<style scoped>\n",
       "    .dataframe tbody tr th:only-of-type {\n",
       "        vertical-align: middle;\n",
       "    }\n",
       "\n",
       "    .dataframe tbody tr th {\n",
       "        vertical-align: top;\n",
       "    }\n",
       "\n",
       "    .dataframe thead th {\n",
       "        text-align: right;\n",
       "    }\n",
       "</style>\n",
       "<table border=\"1\" class=\"dataframe\">\n",
       "  <thead>\n",
       "    <tr style=\"text-align: right;\">\n",
       "      <th></th>\n",
       "      <th>transaction_id</th>\n",
       "      <th>merchant_id</th>\n",
       "      <th>user_id</th>\n",
       "      <th>card_number</th>\n",
       "      <th>transaction_date</th>\n",
       "      <th>transaction_amount</th>\n",
       "      <th>device_id</th>\n",
       "      <th>has_cbk</th>\n",
       "    </tr>\n",
       "  </thead>\n",
       "  <tbody>\n",
       "    <tr>\n",
       "      <th>3198</th>\n",
       "      <td>21323596</td>\n",
       "      <td>17348</td>\n",
       "      <td>8</td>\n",
       "      <td>650487******9884</td>\n",
       "      <td>2019-11-01 01:27:15.811098</td>\n",
       "      <td>2416.70</td>\n",
       "      <td>NaN</td>\n",
       "      <td>False</td>\n",
       "    </tr>\n",
       "    <tr>\n",
       "      <th>3197</th>\n",
       "      <td>21323595</td>\n",
       "      <td>35930</td>\n",
       "      <td>7</td>\n",
       "      <td>544315******7773</td>\n",
       "      <td>2019-11-01 01:29:45.799767</td>\n",
       "      <td>359.68</td>\n",
       "      <td>NaN</td>\n",
       "      <td>False</td>\n",
       "    </tr>\n",
       "    <tr>\n",
       "      <th>3196</th>\n",
       "      <td>21323594</td>\n",
       "      <td>57997</td>\n",
       "      <td>84486</td>\n",
       "      <td>522688******9874</td>\n",
       "      <td>2019-11-01 10:23:50.555604</td>\n",
       "      <td>1.55</td>\n",
       "      <td>NaN</td>\n",
       "      <td>False</td>\n",
       "    </tr>\n",
       "    <tr>\n",
       "      <th>3195</th>\n",
       "      <td>21323593</td>\n",
       "      <td>9603</td>\n",
       "      <td>59275</td>\n",
       "      <td>528052******3611</td>\n",
       "      <td>2019-11-01 11:47:02.404963</td>\n",
       "      <td>1403.67</td>\n",
       "      <td>NaN</td>\n",
       "      <td>False</td>\n",
       "    </tr>\n",
       "    <tr>\n",
       "      <th>3194</th>\n",
       "      <td>21323592</td>\n",
       "      <td>50493</td>\n",
       "      <td>49581</td>\n",
       "      <td>650486******4139</td>\n",
       "      <td>2019-11-01 13:05:34.054967</td>\n",
       "      <td>744.15</td>\n",
       "      <td>NaN</td>\n",
       "      <td>False</td>\n",
       "    </tr>\n",
       "  </tbody>\n",
       "</table>\n",
       "</div>"
      ],
      "text/plain": [
       "      transaction_id  merchant_id  user_id       card_number  \\\n",
       "3198        21323596        17348        8  650487******9884   \n",
       "3197        21323595        35930        7  544315******7773   \n",
       "3196        21323594        57997    84486  522688******9874   \n",
       "3195        21323593         9603    59275  528052******3611   \n",
       "3194        21323592        50493    49581  650486******4139   \n",
       "\n",
       "               transaction_date  transaction_amount  device_id  has_cbk  \n",
       "3198 2019-11-01 01:27:15.811098             2416.70        NaN    False  \n",
       "3197 2019-11-01 01:29:45.799767              359.68        NaN    False  \n",
       "3196 2019-11-01 10:23:50.555604                1.55        NaN    False  \n",
       "3195 2019-11-01 11:47:02.404963             1403.67        NaN    False  \n",
       "3194 2019-11-01 13:05:34.054967              744.15        NaN    False  "
      ]
     },
     "execution_count": 5,
     "metadata": {},
     "output_type": "execute_result"
    }
   ],
   "source": [
    "# Setting the data in ascending chronological order\n",
    "transactions = transactions.sort_values('transaction_date')\n",
    "transactions.head()"
   ]
  },
  {
   "cell_type": "code",
   "execution_count": 6,
   "id": "8c9e6819",
   "metadata": {
    "scrolled": true
   },
   "outputs": [
    {
     "name": "stdout",
     "output_type": "stream",
     "text": [
      "\n",
      "Total time spanned by the data:  30 days 21:49:17.001534\n"
     ]
    }
   ],
   "source": [
    "# Total time span\n",
    "timespan = transactions['transaction_date'].iloc[-1] - transactions['transaction_date'].iloc[0]\n",
    "print('\\nTotal time spanned by the data: ', timespan)"
   ]
  },
  {
   "cell_type": "code",
   "execution_count": 7,
   "id": "fcc0e2cd",
   "metadata": {
    "scrolled": true
   },
   "outputs": [
    {
     "data": {
      "text/html": [
       "<div>\n",
       "<style scoped>\n",
       "    .dataframe tbody tr th:only-of-type {\n",
       "        vertical-align: middle;\n",
       "    }\n",
       "\n",
       "    .dataframe tbody tr th {\n",
       "        vertical-align: top;\n",
       "    }\n",
       "\n",
       "    .dataframe thead th {\n",
       "        text-align: right;\n",
       "    }\n",
       "</style>\n",
       "<table border=\"1\" class=\"dataframe\">\n",
       "  <thead>\n",
       "    <tr style=\"text-align: right;\">\n",
       "      <th></th>\n",
       "      <th>transaction_id</th>\n",
       "      <th>merchant_id</th>\n",
       "      <th>user_id</th>\n",
       "      <th>card_number</th>\n",
       "      <th>transaction_date</th>\n",
       "      <th>transaction_amount</th>\n",
       "      <th>device_id</th>\n",
       "      <th>has_cbk</th>\n",
       "      <th>transaction_year_month_day</th>\n",
       "      <th>transaction_hour</th>\n",
       "    </tr>\n",
       "  </thead>\n",
       "  <tbody>\n",
       "    <tr>\n",
       "      <th>3198</th>\n",
       "      <td>21323596</td>\n",
       "      <td>17348</td>\n",
       "      <td>8</td>\n",
       "      <td>650487******9884</td>\n",
       "      <td>2019-11-01 01:27:15.811098</td>\n",
       "      <td>2416.70</td>\n",
       "      <td>NaN</td>\n",
       "      <td>False</td>\n",
       "      <td>2019-11-01</td>\n",
       "      <td>1</td>\n",
       "    </tr>\n",
       "    <tr>\n",
       "      <th>3197</th>\n",
       "      <td>21323595</td>\n",
       "      <td>35930</td>\n",
       "      <td>7</td>\n",
       "      <td>544315******7773</td>\n",
       "      <td>2019-11-01 01:29:45.799767</td>\n",
       "      <td>359.68</td>\n",
       "      <td>NaN</td>\n",
       "      <td>False</td>\n",
       "      <td>2019-11-01</td>\n",
       "      <td>1</td>\n",
       "    </tr>\n",
       "    <tr>\n",
       "      <th>3196</th>\n",
       "      <td>21323594</td>\n",
       "      <td>57997</td>\n",
       "      <td>84486</td>\n",
       "      <td>522688******9874</td>\n",
       "      <td>2019-11-01 10:23:50.555604</td>\n",
       "      <td>1.55</td>\n",
       "      <td>NaN</td>\n",
       "      <td>False</td>\n",
       "      <td>2019-11-01</td>\n",
       "      <td>10</td>\n",
       "    </tr>\n",
       "    <tr>\n",
       "      <th>3195</th>\n",
       "      <td>21323593</td>\n",
       "      <td>9603</td>\n",
       "      <td>59275</td>\n",
       "      <td>528052******3611</td>\n",
       "      <td>2019-11-01 11:47:02.404963</td>\n",
       "      <td>1403.67</td>\n",
       "      <td>NaN</td>\n",
       "      <td>False</td>\n",
       "      <td>2019-11-01</td>\n",
       "      <td>11</td>\n",
       "    </tr>\n",
       "    <tr>\n",
       "      <th>3194</th>\n",
       "      <td>21323592</td>\n",
       "      <td>50493</td>\n",
       "      <td>49581</td>\n",
       "      <td>650486******4139</td>\n",
       "      <td>2019-11-01 13:05:34.054967</td>\n",
       "      <td>744.15</td>\n",
       "      <td>NaN</td>\n",
       "      <td>False</td>\n",
       "      <td>2019-11-01</td>\n",
       "      <td>13</td>\n",
       "    </tr>\n",
       "  </tbody>\n",
       "</table>\n",
       "</div>"
      ],
      "text/plain": [
       "      transaction_id  merchant_id  user_id       card_number  \\\n",
       "3198        21323596        17348        8  650487******9884   \n",
       "3197        21323595        35930        7  544315******7773   \n",
       "3196        21323594        57997    84486  522688******9874   \n",
       "3195        21323593         9603    59275  528052******3611   \n",
       "3194        21323592        50493    49581  650486******4139   \n",
       "\n",
       "               transaction_date  transaction_amount  device_id  has_cbk  \\\n",
       "3198 2019-11-01 01:27:15.811098             2416.70        NaN    False   \n",
       "3197 2019-11-01 01:29:45.799767              359.68        NaN    False   \n",
       "3196 2019-11-01 10:23:50.555604                1.55        NaN    False   \n",
       "3195 2019-11-01 11:47:02.404963             1403.67        NaN    False   \n",
       "3194 2019-11-01 13:05:34.054967              744.15        NaN    False   \n",
       "\n",
       "     transaction_year_month_day  transaction_hour  \n",
       "3198                 2019-11-01                 1  \n",
       "3197                 2019-11-01                 1  \n",
       "3196                 2019-11-01                10  \n",
       "3195                 2019-11-01                11  \n",
       "3194                 2019-11-01                13  "
      ]
     },
     "execution_count": 7,
     "metadata": {},
     "output_type": "execute_result"
    }
   ],
   "source": [
    "# Creating a 'transaction_year_day' column and an 'transaction_hour' column\n",
    "transactions['transaction_year_month_day'] = transactions['transaction_date'].dt.date\n",
    "transactions['transaction_hour'] = transactions['transaction_date'].dt.hour\n",
    "transactions.head()"
   ]
  },
  {
   "cell_type": "markdown",
   "id": "ebeee1e2",
   "metadata": {},
   "source": [
    "Where we understand the entries of `transaction_hour` by means of an example. That is: `transactions['transaction_hour'] == 1` refers to any transaction that occurs in between `01:00:00.000000` and `01:59:59.999999`, inclusive."
   ]
  },
  {
   "cell_type": "markdown",
   "id": "d49c6fe6",
   "metadata": {},
   "source": [
    "### 2.2. Broad chargeback statistics "
   ]
  },
  {
   "cell_type": "markdown",
   "id": "e45e3367",
   "metadata": {},
   "source": [
    "We verify the statistical behavior of the +/-cbk transactions by answering a series of queries."
   ]
  },
  {
   "cell_type": "markdown",
   "id": "542cee99",
   "metadata": {},
   "source": [
    "#### Q1: How many transactions have +/-cbk status? What percentage of transactions have +cbk status?"
   ]
  },
  {
   "cell_type": "code",
   "execution_count": 8,
   "id": "01645caf",
   "metadata": {},
   "outputs": [
    {
     "data": {
      "text/plain": [
       "False    2808\n",
       "True      391\n",
       "Name: has_cbk, dtype: int64"
      ]
     },
     "execution_count": 8,
     "metadata": {},
     "output_type": "execute_result"
    }
   ],
   "source": [
    "# Total numbers\n",
    "transactions['has_cbk'].value_counts()"
   ]
  },
  {
   "cell_type": "code",
   "execution_count": 9,
   "id": "f829d2e5",
   "metadata": {
    "scrolled": false
   },
   "outputs": [
    {
     "name": "stdout",
     "output_type": "stream",
     "text": [
      "+cbk transactions:  391 , 12.22%\n",
      "-cbk transactions:  2808 , 87.78%\n"
     ]
    }
   ],
   "source": [
    "# Total number and percentages\n",
    "pos_cbk_transactions = transactions['has_cbk'].sum()\n",
    "neg_cbk_transactions = transactions.shape[0] - pos_cbk_transactions \n",
    "print('+cbk transactions: ', pos_cbk_transactions, ',', \"{0:.2%}\".format(pos_cbk_transactions / transactions.shape[0]))\n",
    "print('-cbk transactions: ', neg_cbk_transactions, ',', \"{0:.2%}\".format(neg_cbk_transactions / transactions.shape[0]))"
   ]
  },
  {
   "cell_type": "markdown",
   "id": "67fc3900",
   "metadata": {},
   "source": [
    "#### Q2: What is the total value (sum over `transaction_amount`) of +/-cbk transactions? What is the statistical distribution?"
   ]
  },
  {
   "cell_type": "code",
   "execution_count": 10,
   "id": "b2ee70cf",
   "metadata": {},
   "outputs": [
    {
     "data": {
      "text/html": [
       "<div>\n",
       "<style scoped>\n",
       "    .dataframe tbody tr th:only-of-type {\n",
       "        vertical-align: middle;\n",
       "    }\n",
       "\n",
       "    .dataframe tbody tr th {\n",
       "        vertical-align: top;\n",
       "    }\n",
       "\n",
       "    .dataframe thead tr th {\n",
       "        text-align: left;\n",
       "    }\n",
       "\n",
       "    .dataframe thead tr:last-of-type th {\n",
       "        text-align: right;\n",
       "    }\n",
       "</style>\n",
       "<table border=\"1\" class=\"dataframe\">\n",
       "  <thead>\n",
       "    <tr>\n",
       "      <th></th>\n",
       "      <th colspan=\"8\" halign=\"left\">transaction_amount</th>\n",
       "    </tr>\n",
       "    <tr>\n",
       "      <th></th>\n",
       "      <th>count</th>\n",
       "      <th>mean</th>\n",
       "      <th>std</th>\n",
       "      <th>min</th>\n",
       "      <th>25%</th>\n",
       "      <th>50%</th>\n",
       "      <th>75%</th>\n",
       "      <th>max</th>\n",
       "    </tr>\n",
       "    <tr>\n",
       "      <th>has_cbk</th>\n",
       "      <th></th>\n",
       "      <th></th>\n",
       "      <th></th>\n",
       "      <th></th>\n",
       "      <th></th>\n",
       "      <th></th>\n",
       "      <th></th>\n",
       "      <th></th>\n",
       "    </tr>\n",
       "  </thead>\n",
       "  <tbody>\n",
       "    <tr>\n",
       "      <th>False</th>\n",
       "      <td>2808.0</td>\n",
       "      <td>672.324380</td>\n",
       "      <td>797.463853</td>\n",
       "      <td>1.22</td>\n",
       "      <td>191.285</td>\n",
       "      <td>360.315</td>\n",
       "      <td>812.5775</td>\n",
       "      <td>4091.83</td>\n",
       "    </tr>\n",
       "    <tr>\n",
       "      <th>True</th>\n",
       "      <td>391.0</td>\n",
       "      <td>1453.571918</td>\n",
       "      <td>1169.491346</td>\n",
       "      <td>2.89</td>\n",
       "      <td>565.580</td>\n",
       "      <td>999.470</td>\n",
       "      <td>2140.6800</td>\n",
       "      <td>4097.21</td>\n",
       "    </tr>\n",
       "  </tbody>\n",
       "</table>\n",
       "</div>"
      ],
      "text/plain": [
       "        transaction_amount                                                    \\\n",
       "                     count         mean          std   min      25%      50%   \n",
       "has_cbk                                                                        \n",
       "False               2808.0   672.324380   797.463853  1.22  191.285  360.315   \n",
       "True                 391.0  1453.571918  1169.491346  2.89  565.580  999.470   \n",
       "\n",
       "                             \n",
       "               75%      max  \n",
       "has_cbk                      \n",
       "False     812.5775  4091.83  \n",
       "True     2140.6800  4097.21  "
      ]
     },
     "execution_count": 10,
     "metadata": {},
     "output_type": "execute_result"
    }
   ],
   "source": [
    "# Statistical distribution of the transaction amounts of each chargeback status\n",
    "transactions.loc[:, ['has_cbk', 'transaction_amount']].groupby('has_cbk').describe()"
   ]
  },
  {
   "cell_type": "code",
   "execution_count": 11,
   "id": "c515c512",
   "metadata": {},
   "outputs": [
    {
     "name": "stdout",
     "output_type": "stream",
     "text": [
      "+cbk transactions:  391 , 23.14% %\n",
      "-cbk transactions:  2808 , 76.86% %\n"
     ]
    }
   ],
   "source": [
    "# Total\n",
    "total_transaction_amount = transactions['transaction_amount'].sum()\n",
    "\n",
    "# What is the total sum over +/- cbk transaction amounts?\n",
    "pos_cbk_transaction_amount = transactions.loc[transactions['has_cbk'] == True, :]['transaction_amount'].sum()\n",
    "neg_cbk_transaction_amount = transactions.loc[transactions['has_cbk'] == False, :]['transaction_amount'].sum()\n",
    "\n",
    "# Percentages\n",
    "print('+cbk transactions: ', pos_cbk_transactions, ',', \"{0:.2%}\".format(pos_cbk_transaction_amount / total_transaction_amount), '%')\n",
    "print('-cbk transactions: ', neg_cbk_transactions, ',', \"{0:.2%}\".format(neg_cbk_transaction_amount / total_transaction_amount), '%')"
   ]
  },
  {
   "cell_type": "markdown",
   "id": "1e082340",
   "metadata": {},
   "source": [
    "Comparing this to the answer of <b>Q2</b>, we observe that even though +cbk transactions comprise only <b>12.2%</b> of the total transactions, they comprise <b>23.1%</b> of the total value of the transactions."
   ]
  },
  {
   "cell_type": "markdown",
   "id": "d4a0b91c",
   "metadata": {},
   "source": [
    "#### Q3: What is the average transaction amount exchanged per day for +/-cbk transactions?"
   ]
  },
  {
   "cell_type": "code",
   "execution_count": 12,
   "id": "36cef47d",
   "metadata": {},
   "outputs": [
    {
     "data": {
      "text/html": [
       "<div>\n",
       "<style scoped>\n",
       "    .dataframe tbody tr th:only-of-type {\n",
       "        vertical-align: middle;\n",
       "    }\n",
       "\n",
       "    .dataframe tbody tr th {\n",
       "        vertical-align: top;\n",
       "    }\n",
       "\n",
       "    .dataframe thead th {\n",
       "        text-align: right;\n",
       "    }\n",
       "</style>\n",
       "<table border=\"1\" class=\"dataframe\">\n",
       "  <thead>\n",
       "    <tr style=\"text-align: right;\">\n",
       "      <th></th>\n",
       "      <th>transaction_amount</th>\n",
       "    </tr>\n",
       "  </thead>\n",
       "  <tbody>\n",
       "    <tr>\n",
       "      <th>count</th>\n",
       "      <td>31.000000</td>\n",
       "    </tr>\n",
       "    <tr>\n",
       "      <th>mean</th>\n",
       "      <td>79233.338065</td>\n",
       "    </tr>\n",
       "    <tr>\n",
       "      <th>std</th>\n",
       "      <td>77326.911743</td>\n",
       "    </tr>\n",
       "    <tr>\n",
       "      <th>min</th>\n",
       "      <td>8196.800000</td>\n",
       "    </tr>\n",
       "    <tr>\n",
       "      <th>25%</th>\n",
       "      <td>35255.270000</td>\n",
       "    </tr>\n",
       "    <tr>\n",
       "      <th>50%</th>\n",
       "      <td>45290.690000</td>\n",
       "    </tr>\n",
       "    <tr>\n",
       "      <th>75%</th>\n",
       "      <td>87027.640000</td>\n",
       "    </tr>\n",
       "    <tr>\n",
       "      <th>max</th>\n",
       "      <td>294814.060000</td>\n",
       "    </tr>\n",
       "  </tbody>\n",
       "</table>\n",
       "</div>"
      ],
      "text/plain": [
       "       transaction_amount\n",
       "count           31.000000\n",
       "mean         79233.338065\n",
       "std          77326.911743\n",
       "min           8196.800000\n",
       "25%          35255.270000\n",
       "50%          45290.690000\n",
       "75%          87027.640000\n",
       "max         294814.060000"
      ]
     },
     "execution_count": 12,
     "metadata": {},
     "output_type": "execute_result"
    }
   ],
   "source": [
    "transaction_daily_amount = transactions.loc[: , ['transaction_year_month_day', 'transaction_amount']].groupby('transaction_year_month_day').sum()\n",
    "transaction_daily_amount.describe()"
   ]
  },
  {
   "cell_type": "code",
   "execution_count": 13,
   "id": "3d119e3c",
   "metadata": {},
   "outputs": [
    {
     "data": {
      "text/plain": [
       "transaction_year_month_day\n",
       "2019-11-01    22094.11\n",
       "2019-11-02    39147.14\n",
       "2019-11-03    34223.20\n",
       "2019-11-04    39893.67\n",
       "2019-11-05    21567.91\n",
       "Name: transaction_amount, dtype: float64"
      ]
     },
     "execution_count": 13,
     "metadata": {},
     "output_type": "execute_result"
    }
   ],
   "source": [
    "transaction_daily_amount['transaction_amount'].head()"
   ]
  },
  {
   "cell_type": "code",
   "execution_count": 14,
   "id": "af1a95a4",
   "metadata": {
    "scrolled": true
   },
   "outputs": [
    {
     "data": {
      "text/plain": [
       "<AxesSubplot:xlabel='transaction_year_month_day'>"
      ]
     },
     "execution_count": 14,
     "metadata": {},
     "output_type": "execute_result"
    },
    {
     "data": {
      "image/png": "[encoded data removed]",
      "text/plain": [
       "<Figure size 1008x288 with 1 Axes>"
      ]
     },
     "metadata": {
      "needs_background": "light"
     },
     "output_type": "display_data"
    }
   ],
   "source": [
    "transaction_daily_amount.plot(kind='bar', figsize=(14,4), color = 'green')"
   ]
  },
  {
   "cell_type": "markdown",
   "id": "f030213d",
   "metadata": {},
   "source": [
    "We observe two clear behaviors from this graph. First, a repeating pattern with period equal of approximately 7 (the size of a week!). Second, a steep increase by the end of November.\n",
    "\n",
    "Let us now distinguish between chargeback status."
   ]
  },
  {
   "cell_type": "code",
   "execution_count": 15,
   "id": "75bae82e",
   "metadata": {
    "scrolled": false
   },
   "outputs": [
    {
     "data": {
      "text/plain": [
       "<AxesSubplot:xlabel='transaction_year_month_day'>"
      ]
     },
     "execution_count": 15,
     "metadata": {},
     "output_type": "execute_result"
    },
    {
     "data": {
      "image/png": "[encoded data removed]",
      "text/plain": [
       "<Figure size 1008x288 with 1 Axes>"
      ]
     },
     "metadata": {
      "needs_background": "light"
     },
     "output_type": "display_data"
    },
    {
     "data": {
      "image/png": "[encoded data removed]",
      "text/plain": [
       "<Figure size 1008x288 with 1 Axes>"
      ]
     },
     "metadata": {
      "needs_background": "light"
     },
     "output_type": "display_data"
    }
   ],
   "source": [
    "pos_cbk_daily_amount = transactions.loc[transactions['has_cbk'] == True, ['transaction_year_month_day', 'transaction_amount']].groupby('transaction_year_month_day').sum()\n",
    "neg_cbk_daily_amount = transactions.loc[transactions['has_cbk'] == False, ['transaction_year_month_day', 'transaction_amount']].groupby('transaction_year_month_day').sum()\n",
    "pos_cbk_daily_amount.plot(kind='bar', figsize=(14,4), color ='red')\n",
    "neg_cbk_daily_amount.plot(kind='bar', figsize=(14,4), color ='blue')\n",
    "# Make a better plot"
   ]
  },
  {
   "cell_type": "markdown",
   "id": "7b0ca221",
   "metadata": {},
   "source": [
    "Both have similar tendencies, that is, a cyclic behavior with period of approximately 7 and a spike approximately at the 3rd week (starting at around day 21, inclusive). \n",
    "\n",
    "By a quick Google search, we found that the time frame spanning from day <b>2019/11/22</b> to <b>2019/12/01</b> corresponds to the <b>Black Friday</b> event of the respective year. This event is infamous for its discount prices, which might explain the sudden spike in transaction value during this period.\n",
    "\n",
    "However, spikes in purchases at the end of the month might also be associated with the closing of the card bills of the month, meaning whatever is bought with credit will only be effectively paid at the end of the following month. Unfortunately, since we only have a single month in our data set, we have no further means of probing this hypothesis. We'd need other months to compare.\n",
    "\n",
    "The above analysis suggests that we should organize the data with two additional categories:\n",
    "\n",
    "- <b>Weekday (Monday, Tuesday, ...);</b>\n",
    "- <b>If the transaction occurs during the Black Friday event (True/False)</b>."
   ]
  },
  {
   "cell_type": "code",
   "execution_count": 16,
   "id": "6945e951",
   "metadata": {},
   "outputs": [
    {
     "data": {
      "text/plain": [
       "3198    1\n",
       "3197    1\n",
       "3196    1\n",
       "3195    1\n",
       "3194    1\n",
       "Name: transaction_day, dtype: int64"
      ]
     },
     "execution_count": 16,
     "metadata": {},
     "output_type": "execute_result"
    }
   ],
   "source": [
    "# Create a weekday column\n",
    "transactions['transaction_weekday'] = transactions['transaction_date'].dt.weekday\n",
    "\n",
    "# Create a day and month column\n",
    "transactions['transaction_day'] = transactions['transaction_date'].dt.day\n",
    "transactions['transaction_month'] = transactions['transaction_date'].dt.month\n",
    "\n",
    "transactions['transaction_day'].head()"
   ]
  },
  {
   "cell_type": "code",
   "execution_count": 17,
   "id": "e167a46d",
   "metadata": {},
   "outputs": [],
   "source": [
    "# Black friday boolean\n",
    "black_friday = ((transactions['transaction_month'] == 11) & (transactions['transaction_day'] > 20)) | ((transactions['transaction_month'] == 12) & transactions['transaction_day'] == 1)\n",
    "\n",
    "# Create a boolean column related to the inquiry 'Does the transaction occur in the black friday event of the data set?'\n",
    "transactions_black_friday = transactions.loc[black_friday, 'transaction_id']\n",
    "transactions['is_black_friday'] = transactions['transaction_id'].isin(transactions_black_friday)"
   ]
  },
  {
   "cell_type": "markdown",
   "id": "6f07fdca",
   "metadata": {},
   "source": [
    "#### Q4: Based on the answer of Q3, what is the statistical distribution of the transaction amount evaluated per weekday outside the Black Friday event? What about during Black Friday?"
   ]
  },
  {
   "cell_type": "code",
   "execution_count": 18,
   "id": "58003fa8",
   "metadata": {
    "scrolled": false
   },
   "outputs": [
    {
     "data": {
      "text/plain": [
       "<AxesSubplot:xlabel='transaction_year_month_day'>"
      ]
     },
     "execution_count": 18,
     "metadata": {},
     "output_type": "execute_result"
    },
    {
     "data": {
      "image/png": "[encoded data removed]",
      "text/plain": [
       "<Figure size 1008x288 with 1 Axes>"
      ]
     },
     "metadata": {
      "needs_background": "light"
     },
     "output_type": "display_data"
    },
    {
     "data": {
      "image/png": "[encoded data removed]",
      "text/plain": [
       "<Figure size 1008x288 with 1 Axes>"
      ]
     },
     "metadata": {
      "needs_background": "light"
     },
     "output_type": "display_data"
    }
   ],
   "source": [
    "transactions_outside_black_friday = transactions.loc[(transactions['is_black_friday'] == False), ['transaction_weekday', 'transaction_amount']].groupby('transaction_weekday').mean()\n",
    "transactions_during_black_friday = transactions.loc[(transactions['is_black_friday'] == True), ['transaction_year_month_day', 'transaction_amount']].groupby('transaction_year_month_day').sum()\n",
    "transactions_outside_black_friday.plot(kind='bar', figsize=(14,4), color = 'orange')\n",
    "transactions_during_black_friday.plot(kind='bar', figsize=(14,4), color = 'black')"
   ]
  },
  {
   "cell_type": "markdown",
   "id": "344baccf",
   "metadata": {},
   "source": [
    "The orange graph relates to the average over each weekday outside of Black Friday. In this graph, we understand that the horizontal axis is the index of each day of the week, starting at <b>0</b> for <b>Monday</b> and ending at <b>6</b> for <b>Sunday</b>. From the data sample, we understand that these averages are made over 3 days each, with exception of Sunday, which is made over 2 days.\n",
    "\n",
    "The black graph relates to the total transaction amount (y axis) over each day during Black Friday (x axis). Not surprisingly, the peaks in sale value fall precisely on the two Fridays contained within this cut of the data."
   ]
  },
  {
   "cell_type": "markdown",
   "id": "ae7f623c",
   "metadata": {},
   "source": [
    "#### Q5: Plot the two graphs contained in the answer of Q4 for +/-cbk transactions."
   ]
  },
  {
   "cell_type": "markdown",
   "id": "791d1a18",
   "metadata": {},
   "source": [
    "Instead of using the function '.describe()' for every weekday outside Black Friday and every day during Black Friday, we use two box plots."
   ]
  },
  {
   "cell_type": "markdown",
   "id": "fae2fe12",
   "metadata": {},
   "source": [
    "##### Outside Black Friday"
   ]
  },
  {
   "cell_type": "code",
   "execution_count": 136,
   "id": "5e6798b2",
   "metadata": {
    "scrolled": false
   },
   "outputs": [
    {
     "data": {
      "image/png": "[encoded data removed]",
      "text/plain": [
       "<Figure size 1008x432 with 1 Axes>"
      ]
     },
     "metadata": {
      "needs_background": "light"
     },
     "output_type": "display_data"
    }
   ],
   "source": [
    "plt.figure(figsize = (14, 6))\n",
    "plt.title('Big graph')\n",
    "plt.xlabel('Weekday')\n",
    "plt.ylabel('Total transaction amount')\n",
    "ax = sns.boxplot(x = \"transaction_weekday\", y = \"transaction_amount\", hue = \"has_cbk\",\n",
    "                 data = transactions.loc[(transactions['is_black_friday'] == False), :] , palette=\"Set2\")"
   ]
  },
  {
   "cell_type": "markdown",
   "id": "e66b2016",
   "metadata": {},
   "source": [
    "##### During Black Friday"
   ]
  },
  {
   "cell_type": "code",
   "execution_count": 134,
   "id": "9b0c0bf7",
   "metadata": {},
   "outputs": [
    {
     "data": {
      "image/png": "[encoded data removed]",
      "text/plain": [
       "<Figure size 1008x432 with 1 Axes>"
      ]
     },
     "metadata": {
      "needs_background": "light"
     },
     "output_type": "display_data"
    }
   ],
   "source": [
    "plt.figure(figsize = (14, 6))\n",
    "plt.title('Big graph')\n",
    "plt.xlabel('Weekday')\n",
    "plt.ylabel('Total transaction amount')\n",
    "ax = sns.boxplot(x = \"transaction_year_month_day\", y = \"transaction_amount\", hue = \"has_cbk\",\n",
    "                 data = transactions.loc[(transactions['is_black_friday'] == True), :] , palette=\"Set2\")"
   ]
  },
  {
   "cell_type": "markdown",
   "id": "637b423e",
   "metadata": {},
   "source": [
    "In general, -cbk transactions tend to be more well behaved. That is, have smaller standard deviation. Note that this might be more due to the fact that there are many more -cbk transactions compared to +cbk transactions. So the statistical character of -cbk transactions is over a larger amount of samples."
   ]
  },
  {
   "cell_type": "markdown",
   "id": "a353f582",
   "metadata": {},
   "source": [
    "#### Q6: How does the percentage of chargebacks change with respect to Black Friday?"
   ]
  },
  {
   "cell_type": "markdown",
   "id": "50a5e675",
   "metadata": {},
   "source": [
    "##### Number of transactions"
   ]
  },
  {
   "cell_type": "code",
   "execution_count": 155,
   "id": "1877b7ca",
   "metadata": {
    "scrolled": true
   },
   "outputs": [
    {
     "name": "stdout",
     "output_type": "stream",
     "text": [
      "Total transactions: \n",
      " \tOutside Black Friday:  979 , During Black Friday:  2220\n",
      "+cbk transactions: \n",
      " \tOutside Black Friday:  65 , During Black Friday:  326\n",
      "-cbk transactions: \n",
      " \tOutside Black Friday:  914 , During Black Friday:  1894\n"
     ]
    }
   ],
   "source": [
    "print('Total transactions: \\n', '\\tOutside Black Friday: ', transactions.loc[(transactions['is_black_friday'] == False), ['transaction_id']].shape[0],  ', During Black Friday: ',  transactions.loc[(transactions['is_black_friday'] == True), ['transaction_id']].shape[0])\n",
    "print('+cbk transactions: \\n',  '\\tOutside Black Friday: ',  transactions.loc[(transactions['is_black_friday'] == False) & (transactions['has_cbk'] == True), ['transaction_id']].shape[0],', During Black Friday: ' ,transactions.loc[(transactions['is_black_friday'] == True) & (transactions['has_cbk'] == True), ['transaction_id']].shape[0])\n",
    "print('-cbk transactions: \\n',  '\\tOutside Black Friday: ', transactions.loc[(transactions['is_black_friday'] == False) & (transactions['has_cbk'] == False), ['transaction_id']].shape[0],', During Black Friday: ',  transactions.loc[(transactions['is_black_friday'] == True) & (transactions['has_cbk'] == False), ['transaction_id']].shape[0])"
   ]
  },
  {
   "cell_type": "markdown",
   "id": "940979f4",
   "metadata": {},
   "source": [
    "##### Percentages"
   ]
  },
  {
   "cell_type": "code",
   "execution_count": 24,
   "id": "020d4102",
   "metadata": {},
   "outputs": [
    {
     "name": "stdout",
     "output_type": "stream",
     "text": [
      "+cbk transactions outside BF:  6.64%\n",
      "+cbk transactions during BF:  14.68%\n"
     ]
    }
   ],
   "source": [
    "# Total in terms of Black Friday\n",
    "total_n_black_friday = transactions.loc[(transactions['is_black_friday'] == False), ['transaction_id']].shape[0]\n",
    "total_p_black_friday = transactions.loc[(transactions['is_black_friday'] == True), ['transaction_id']].shape[0]\n",
    "\n",
    "# Chargebacks in terms of Black Friday\n",
    "cbk_n_black_friday =  transactions.loc[(transactions['is_black_friday'] == False) & (transactions['has_cbk'] == True), ['transaction_id']].shape[0]\n",
    "cbk_p_black_friday =  transactions.loc[(transactions['is_black_friday'] == True) & (transactions['has_cbk'] == True), ['transaction_id']].shape[0]\n",
    "\n",
    "#Percentages\n",
    "print('+cbk transactions outside BF: ', \"{0:.2%}\".format(cbk_n_black_friday / total_n_black_friday))\n",
    "print('+cbk transactions during BF: ', \"{0:.2%}\".format(cbk_p_black_friday / total_p_black_friday))"
   ]
  },
  {
   "cell_type": "markdown",
   "id": "3993e91d",
   "metadata": {},
   "source": [
    "This means there is an increased percentage of chargebacks during Black Friday."
   ]
  },
  {
   "cell_type": "markdown",
   "id": "7089fc5c",
   "metadata": {},
   "source": [
    "#### Q7: What is the total `transaction_amount` per hour of day outside the Black Friday event?"
   ]
  },
  {
   "cell_type": "code",
   "execution_count": 25,
   "id": "e38b51cf",
   "metadata": {
    "scrolled": false
   },
   "outputs": [
    {
     "data": {
      "text/plain": [
       "<AxesSubplot:xlabel='transaction_hour'>"
      ]
     },
     "execution_count": 25,
     "metadata": {},
     "output_type": "execute_result"
    },
    {
     "data": {
      "image/png": "[encoded data removed]",
      "text/plain": [
       "<Figure size 1008x288 with 1 Axes>"
      ]
     },
     "metadata": {
      "needs_background": "light"
     },
     "output_type": "display_data"
    },
    {
     "data": {
      "image/png": "[encoded data removed]",
      "text/plain": [
       "<Figure size 1008x288 with 1 Axes>"
      ]
     },
     "metadata": {
      "needs_background": "light"
     },
     "output_type": "display_data"
    }
   ],
   "source": [
    "pos_cbk_hourly_amount = transactions.loc[(transactions['has_cbk'] == True) & (transactions['is_black_friday'] == False), ['transaction_hour', 'transaction_amount']].groupby('transaction_hour').sum()\n",
    "neg_cbk_hourly_amount = transactions.loc[(transactions['has_cbk'] == False) & (transactions['is_black_friday'] == False), ['transaction_hour', 'transaction_amount']].groupby('transaction_hour').sum()\n",
    "pos_cbk_hourly_amount.plot(kind='bar', figsize=(14,4), color ='red')\n",
    "neg_cbk_hourly_amount.plot(kind='bar', figsize=(14,4), color ='blue')"
   ]
  },
  {
   "cell_type": "markdown",
   "id": "332f26cc",
   "metadata": {},
   "source": [
    "#### Q8: What is the average `transaction_amount` per time of day within the Black Friday event?"
   ]
  },
  {
   "cell_type": "code",
   "execution_count": 26,
   "id": "eb97d200",
   "metadata": {
    "scrolled": false
   },
   "outputs": [
    {
     "data": {
      "text/plain": [
       "<AxesSubplot:xlabel='transaction_hour'>"
      ]
     },
     "execution_count": 26,
     "metadata": {},
     "output_type": "execute_result"
    },
    {
     "data": {
      "image/png": "[encoded data removed]",
      "text/plain": [
       "<Figure size 1008x288 with 1 Axes>"
      ]
     },
     "metadata": {
      "needs_background": "light"
     },
     "output_type": "display_data"
    },
    {
     "data": {
      "image/png": "[encoded data removed]",
      "text/plain": [
       "<Figure size 1008x288 with 1 Axes>"
      ]
     },
     "metadata": {
      "needs_background": "light"
     },
     "output_type": "display_data"
    }
   ],
   "source": [
    "pos_cbk_hourly_amount = transactions.loc[(transactions['has_cbk'] == True) & (transactions['is_black_friday'] == True), ['transaction_hour', 'transaction_amount']].groupby('transaction_hour').sum()\n",
    "neg_cbk_hourly_amount = transactions.loc[(transactions['has_cbk'] == False) & (transactions['is_black_friday'] == True), ['transaction_hour', 'transaction_amount']].groupby('transaction_hour').sum()\n",
    "pos_cbk_hourly_amount.plot(kind='bar', figsize = (14,4), color ='red')\n",
    "neg_cbk_hourly_amount.plot(kind='bar', figsize = (14,4), color ='blue')"
   ]
  },
  {
   "cell_type": "code",
   "execution_count": 160,
   "id": "c5e7d51d",
   "metadata": {
    "scrolled": false
   },
   "outputs": [
    {
     "data": {
      "image/png": "[encoded data removed]",
      "text/plain": [
       "<Figure size 1008x432 with 1 Axes>"
      ]
     },
     "metadata": {
      "needs_background": "light"
     },
     "output_type": "display_data"
    }
   ],
   "source": [
    "plt.figure(figsize = (14, 6))\n",
    "plt.title('Daily activity of the transaction amount')\n",
    "plt.xlabel('Hour of day')\n",
    "plt.ylabel('Total transaction amount')\n",
    "ax = sns.boxplot(x = \"transaction_hour\", y = \"transaction_amount\", hue = \"has_cbk\",\n",
    "                 data = transactions.loc[(transactions['is_black_friday'] == True), :] , palette=\"Set2\")"
   ]
  },
  {
   "cell_type": "markdown",
   "id": "fc450ac0",
   "metadata": {},
   "source": [
    "#### Q8: What is the statistical distribution of the frequency of transactions?"
   ]
  },
  {
   "cell_type": "markdown",
   "id": "d908309d",
   "metadata": {},
   "source": [
    "To answer this query, we create a second datetime colum (`transaction_date_1`), shifted by one entry with respect to `transaction_date`. This way, by subtracting the two we can obtain a third column (`transaction_time_delta`) with the time intervals in between transactions."
   ]
  },
  {
   "cell_type": "code",
   "execution_count": 27,
   "id": "f465e938",
   "metadata": {
    "scrolled": false
   },
   "outputs": [
    {
     "name": "stdout",
     "output_type": "stream",
     "text": [
      "3198   2019-11-01 01:27:15.811098\n",
      "3197   2019-11-01 01:29:45.799767\n",
      "3196   2019-11-01 10:23:50.555604\n",
      "3195   2019-11-01 11:47:02.404963\n",
      "3194   2019-11-01 13:05:34.054967\n",
      "                  ...            \n",
      "4      2019-12-01 21:30:53.347051\n",
      "3      2019-12-01 21:59:19.797129\n",
      "2      2019-12-01 22:22:43.021495\n",
      "1      2019-12-01 22:45:37.873639\n",
      "0      2019-12-01 23:16:32.812632\n",
      "Name: transaction_date_1, Length: 3199, dtype: datetime64[ns]\n",
      "3198   2019-11-01 00:00:00.000000\n",
      "3197   2019-11-01 01:27:15.811098\n",
      "3196   2019-11-01 01:29:45.799767\n",
      "3195   2019-11-01 10:23:50.555604\n",
      "3194   2019-11-01 11:47:02.404963\n",
      "                  ...            \n",
      "4      2019-12-01 21:25:53.374213\n",
      "3      2019-12-01 21:30:53.347051\n",
      "2      2019-12-01 21:59:19.797129\n",
      "1      2019-12-01 22:22:43.021495\n",
      "0      2019-12-01 22:45:37.873639\n",
      "Name: transaction_date_1, Length: 3199, dtype: datetime64[ns]\n"
     ]
    },
    {
     "name": "stderr",
     "output_type": "stream",
     "text": [
      "C:\\Users\\tomat\\AppData\\Local\\Temp\\ipykernel_14952\\471014079.py:5: SettingWithCopyWarning: \n",
      "A value is trying to be set on a copy of a slice from a DataFrame\n",
      "\n",
      "See the caveats in the documentation: https://pandas.pydata.org/pandas-docs/stable/user_guide/indexing.html#returning-a-view-versus-a-copy\n",
      "  transactions['transaction_date_1'].iloc[0] = datetime.datetime(2019, 11, 1)\n"
     ]
    },
    {
     "data": {
      "text/plain": [
       "count                         3199\n",
       "mean     0 days 00:13:56.446643523\n",
       "std      0 days 00:51:41.731174351\n",
       "min         0 days 00:00:00.009406\n",
       "25%      0 days 00:01:14.265789500\n",
       "50%         0 days 00:03:35.561798\n",
       "75%         0 days 00:09:42.795405\n",
       "max         0 days 19:13:35.945613\n",
       "Name: transaction_time_delta, dtype: object"
      ]
     },
     "execution_count": 27,
     "metadata": {},
     "output_type": "execute_result"
    }
   ],
   "source": [
    "# Create a transaction_date column where all the elements are shifted by 1\n",
    "transactions['transaction_date_1'] = transactions['transaction_date']\n",
    "print(transactions['transaction_date_1'])\n",
    "transactions['transaction_date_1'] = transactions.transaction_date_1.shift(1)\n",
    "transactions['transaction_date_1'].iloc[0] = datetime.datetime(2019, 11, 1)\n",
    "print(transactions['transaction_date_1'])\n",
    "\n",
    "# Create a column of the time intervals (deltas) between transactions\n",
    "transactions['transaction_time_delta'] = transactions['transaction_date'] - transactions['transaction_date_1']\n",
    "\n",
    "# Show statistical distribution of the time deltas\n",
    "transactions['transaction_time_delta'].describe()"
   ]
  },
  {
   "cell_type": "code",
   "execution_count": 74,
   "id": "e3321e0f",
   "metadata": {
    "scrolled": false
   },
   "outputs": [
    {
     "data": {
      "text/plain": [
       "<AxesSubplot:>"
      ]
     },
     "execution_count": 74,
     "metadata": {},
     "output_type": "execute_result"
    },
    {
     "data": {
      "image/png": "[encoded data removed]",
      "text/plain": [
       "<Figure size 1008x432 with 1 Axes>"
      ]
     },
     "metadata": {
      "needs_background": "light"
     },
     "output_type": "display_data"
    }
   ],
   "source": [
    "# Plot of the time deltas\n",
    "transactions['transaction_time_delta'].plot(kind='line' ,figsize=(14,6))"
   ]
  },
  {
   "cell_type": "markdown",
   "id": "ca28a7e2",
   "metadata": {},
   "source": [
    "#### Q8: What is the statistical distribution of the `transaction_time_delta`  for +/-cbk transactions?"
   ]
  },
  {
   "cell_type": "code",
   "execution_count": 29,
   "id": "5af0f182",
   "metadata": {
    "scrolled": true
   },
   "outputs": [
    {
     "name": "stdout",
     "output_type": "stream",
     "text": [
      "          transaction_time_delta\n",
      "count                       2808\n",
      "mean   0 days 00:14:57.008923620\n",
      "std    0 days 00:54:48.172871611\n",
      "min       0 days 00:00:00.009406\n",
      "25%    0 days 00:01:17.072689500\n",
      "50%    0 days 00:03:41.998324500\n",
      "75%       0 days 00:10:02.329863\n",
      "max       0 days 19:13:35.945613           transaction_time_delta\n",
      "count                        391\n",
      "mean   0 days 00:06:41.513440166\n",
      "std    0 days 00:15:24.510000137\n",
      "min       0 days 00:00:00.087964\n",
      "25%    0 days 00:00:57.603439500\n",
      "50%       0 days 00:02:45.638455\n",
      "75%    0 days 00:07:06.885935500\n",
      "max       0 days 03:29:02.902800\n"
     ]
    }
   ],
   "source": [
    "stat1 = transactions.loc[transactions['has_cbk'] == False, ['transaction_time_delta']].describe()\n",
    "stat2 = transactions.loc[transactions['has_cbk'] == True, ['transaction_time_delta']].describe()\n",
    "print(stat1, stat2)"
   ]
  },
  {
   "cell_type": "markdown",
   "id": "0ce6dadb",
   "metadata": {},
   "source": [
    "##### Outside Black Friday"
   ]
  },
  {
   "cell_type": "code",
   "execution_count": 30,
   "id": "99ceb45c",
   "metadata": {
    "scrolled": true
   },
   "outputs": [
    {
     "name": "stdout",
     "output_type": "stream",
     "text": [
      "          transaction_time_delta\n",
      "count                        914\n",
      "mean   0 days 00:30:27.223341137\n",
      "std    0 days 01:17:31.207422043\n",
      "min       0 days 00:00:00.233547\n",
      "25%       0 days 00:03:56.620828\n",
      "50%       0 days 00:10:36.533782\n",
      "75%    0 days 00:26:24.128776500\n",
      "max       0 days 11:53:21.746908           transaction_time_delta\n",
      "count                         65\n",
      "mean   0 days 00:14:11.338787523\n",
      "std    0 days 00:23:22.053105175\n",
      "min       0 days 00:00:03.834797\n",
      "25%       0 days 00:01:28.582134\n",
      "50%       0 days 00:07:20.556535\n",
      "75%       0 days 00:17:53.583248\n",
      "max       0 days 02:35:20.333179\n"
     ]
    }
   ],
   "source": [
    "stat1 = transactions.loc[(transactions['has_cbk'] == False) & (transactions['is_black_friday'] == False), ['transaction_time_delta']].describe()\n",
    "stat2 = transactions.loc[(transactions['has_cbk'] == True) & (transactions['is_black_friday'] == False), ['transaction_time_delta']].describe()\n",
    "print(stat1, stat2)"
   ]
  },
  {
   "cell_type": "markdown",
   "id": "c5aabaad",
   "metadata": {},
   "source": [
    "##### During Black Friday"
   ]
  },
  {
   "cell_type": "code",
   "execution_count": 31,
   "id": "48f89730",
   "metadata": {
    "scrolled": false
   },
   "outputs": [
    {
     "name": "stdout",
     "output_type": "stream",
     "text": [
      "          transaction_time_delta\n",
      "count                       1894\n",
      "mean   0 days 00:07:28.109252231\n",
      "std    0 days 00:37:11.381869588\n",
      "min       0 days 00:00:00.009406\n",
      "25%    0 days 00:00:55.537131750\n",
      "50%       0 days 00:02:26.314893\n",
      "75%    0 days 00:05:31.416815750\n",
      "max       0 days 19:13:35.945613           transaction_time_delta\n",
      "count                        326\n",
      "mean   0 days 00:05:11.824337165\n",
      "std    0 days 00:12:48.129495568\n",
      "min       0 days 00:00:00.087964\n",
      "25%    0 days 00:00:49.346732750\n",
      "50%    0 days 00:02:30.717840500\n",
      "75%    0 days 00:05:58.476109500\n",
      "max       0 days 03:29:02.902800\n"
     ]
    }
   ],
   "source": [
    "stat1 = transactions.loc[(transactions['has_cbk'] == False) & (transactions['is_black_friday'] == True), ['transaction_time_delta']].describe()\n",
    "stat2 = transactions.loc[(transactions['has_cbk'] == True) & (transactions['is_black_friday'] == True), ['transaction_time_delta']].describe()\n",
    "print(stat1, stat2)"
   ]
  },
  {
   "cell_type": "markdown",
   "id": "079e90bf",
   "metadata": {},
   "source": [
    "This means that +cbk transactions are, on average, more frequent than -cbk transactions. This might be a sign of chargebacks associated with criminal fraud, that is, if someone gets their hands on a certain customer's card information it'd make sense for them to make as many purchases as possible before the customer notices."
   ]
  },
  {
   "cell_type": "markdown",
   "id": "08b1f3c6",
   "metadata": {},
   "source": [
    "### 2.3. Conclusions"
   ]
  },
  {
   "cell_type": "markdown",
   "id": "3ba62bdc",
   "metadata": {},
   "source": [
    "From the above analysis, we have obtained a series of conclusions on the comparison between +cbk and -cbk transactions. That is, compared to -cbk transactions (our measure of honest behavior), +cbk transactions are on average:\n",
    "\n",
    "- <b>More expensive.</b> +cbk transactions comprise <b>12.2%</b> of the total transactions, yet <b>23.1%</b> of their total value.\n",
    "- <b>More frequent.</b> The average time between +cbk transactions (<b>6 minutes, 41 seconds</b>) is less than half that of the average time between -cbk transactions (<b>14 minutes, 57 seconds</b>).\n",
    "\n",
    "This suggests that there might be a correlation between these two quantities and suspicious behavior.\n",
    "\n",
    "Furthermore, from the daily behavior of the `transaction_amount`, we observed two distinct patterns in the month of November (which comprises most of the data sample):\n",
    "\n",
    "- <b>2019-11-01 to 2019-11-20:</b> Approximate weekly pattern. This led us to create a column that specifies the day of the week (`transaction_weekday`).\n",
    "\n",
    "- <b>2019-11-21 to 2019-12-01:</b> A period of time we associated with the <b>Black Friday</b> event. This time section shows, compared to the previous interval, a spike in both `transaction_amount` and percentage of +cbk transactions with respect to the total transactions outside and during <b>Black Friday</b>.\n",
    "\n",
    "The <u>key</u> (not all) columns introduced in this step of the analysis were the following:\n",
    "\n",
    "- <b>Categorical:</b> `is_black_friday`\n",
    "\n",
    "- <b>Numeric:</b> `transaction_year_month_day`, `transaction_weekday`,`transaction_hour`, `transaction_time_delta`\n",
    "\n",
    "These results give us some ideas on the next steps, which we try to individuate behavior respective to each merchant (`merchant_id`) and each customer (`user_id`). "
   ]
  },
  {
   "cell_type": "markdown",
   "id": "751f6046",
   "metadata": {},
   "source": [
    "## 3. Merchant Analysis"
   ]
  },
  {
   "cell_type": "markdown",
   "id": "b3fa0d9c",
   "metadata": {},
   "source": [
    "Different merchants sell different goods. This means that the average/total `transaction_amount` exchanged by each merchant (`merchant_id`) might vary significantly from one another. For example, there is little sense in averaging over the sale of electronic hardware and the sale of a hotdog. Furthermore, there are certain types of establishments that are more likely to suffer chargeback fraud based on the re-sale value of their goods (Would you ever buy a ‘used’ candle? What about a used iPhone way below market price?).\n",
    "\n",
    "Given this motivation, we shall focus on the `transaction_amount` in this section of the analysis. In the following section (<b>User Analysis</b>) we shall probe more deeply into the temporal character of the data."
   ]
  },
  {
   "cell_type": "code",
   "execution_count": 32,
   "id": "c448d7b5",
   "metadata": {},
   "outputs": [
    {
     "name": "stdout",
     "output_type": "stream",
     "text": [
      "Total merchants: 1756\n",
      "Merchants with -cbk transactions: 1638 , Percentage: 93.28%\n",
      "Merchants with +cbk transactions: 118 , Percentage: 6.72%\n"
     ]
    }
   ],
   "source": [
    "total_merchants = transactions['merchant_id'].nunique()\n",
    "print('Total merchants:', total_merchants)\n",
    "\n",
    "# Merchants that have +cbk transactions\n",
    "cbk_merchants = transactions.loc[transactions['has_cbk'] == True, 'merchant_id'].drop_duplicates()\n",
    "print('Merchants with -cbk transactions:', total_merchants - cbk_merchants.nunique(), ', Percentage:', \"{0:.2%}\".format((total_merchants - cbk_merchants.nunique()) / total_merchants))\n",
    "print('Merchants with +cbk transactions:', cbk_merchants.nunique(), ', Percentage:', \"{0:.2%}\".format(cbk_merchants.nunique() / total_merchants))"
   ]
  },
  {
   "cell_type": "markdown",
   "id": "14916c35",
   "metadata": {},
   "source": [
    "Just to add context to this percentage, let us be reminded that +cbk transactions comprise of <b>12.1%</b> the total transactions. This suggests +cbk transactions are more common in certain types of merchants. This alludes to the point we made earlier that some merchants' goods have better re-sale value than those of others and are therefore more likely to be targets of chargeback fraud.\n",
    "\n",
    "Stating the same information in total quantity and in terms of counts, we have <b>391</b> +cbk transactions distributed among <b>118</b> merchants. What we'd like to learn next is how many -cbk transactions exist within this group of 118 merchants, which we shall refer to as `cbk_merchants`."
   ]
  },
  {
   "cell_type": "markdown",
   "id": "0e36ceb3",
   "metadata": {},
   "source": [
    "### 3.1. Counting the -cbk transactions of `cbk_merchants`"
   ]
  },
  {
   "cell_type": "code",
   "execution_count": 33,
   "id": "60396341",
   "metadata": {
    "scrolled": false
   },
   "outputs": [
    {
     "name": "stdout",
     "output_type": "stream",
     "text": [
      "3185    77570\n",
      "3180    16266\n",
      "3165    41354\n",
      "3142     8942\n",
      "3110    62052\n",
      "        ...  \n",
      "28      11470\n",
      "26      53816\n",
      "13      56107\n",
      "3       68657\n",
      "1       92895\n",
      "Name: merchant_id, Length: 118, dtype: int64\n",
      "\n",
      "For cbk_merchants\n",
      "Total transactions: 532\n",
      "-cbk transactions: 141 , 26.50%\n",
      "+cbk transactions: 391 , 73.50%\n"
     ]
    }
   ],
   "source": [
    "# List of merchants with +cbk transactions\n",
    "transactions_cbk = transactions.loc[transactions['has_cbk'] == True, 'merchant_id'].drop_duplicates()\n",
    "print(transactions_cbk)\n",
    "\n",
    "# Truth column associted with cbk_merchants\n",
    "merchant_cbk_filter = transactions['merchant_id'].isin(transactions_cbk)\n",
    "\n",
    "# Transactions of the cbk_merchants\n",
    "print('\\nFor cbk_merchants')\n",
    "print('Total transactions:', transactions.loc[merchant_cbk_filter, :].shape[0])\n",
    "print('-cbk transactions:', transactions.loc[merchant_cbk_filter & (transactions['has_cbk'] == False), :].shape[0],',',  \"{0:.2%}\".format(transactions.loc[merchant_cbk_filter & (transactions['has_cbk'] == False), :].shape[0] / transactions.loc[merchant_cbk_filter, :].shape[0]))\n",
    "print('+cbk transactions:', transactions.loc[merchant_cbk_filter & (transactions['has_cbk'] == True), :].shape[0],',' , \"{0:.2%}\".format(transactions.loc[merchant_cbk_filter & (transactions['has_cbk'] == True), :].shape[0] / transactions.loc[merchant_cbk_filter, :].shape[0]))"
   ]
  },
  {
   "cell_type": "markdown",
   "id": "451a37e1",
   "metadata": {},
   "source": [
    "This means that, among the 118 merchants that suffer chargeback (`cbk_merchants`), most of their transactions are chargebacks. Furthermore, we have an average of 141 / 118 = <b>1.2</b> -cbk transactions per merchant in this group.\n",
    "\n",
    "The reason we pointed out this value is because, by the end of this analysis, we want to have clear quantitative criteria or 'tests' to establish what transactions are suspicious. The fact that we only have 1.2 -cbk transactions per merchant in this group means that, for our data set, it would be impractical to create a test based on past history of each single merchant's transactions.\n",
    "\n",
    "Instead, we will group these merchants in terms of some other quantities, such as <b>percentage of chargebacks</b> (section <b>3.1</b>)  and <b>average transaction amount</b> (section <b>3.2</b>)."
   ]
  },
  {
   "cell_type": "markdown",
   "id": "97412453",
   "metadata": {},
   "source": [
    "### 3.1.`cbk_merchants` grouped in percentage of chargebacks"
   ]
  },
  {
   "cell_type": "markdown",
   "id": "c690164c",
   "metadata": {},
   "source": [
    "A piece of information that would be interesting to understand is how much of each merchant's liquid revenue is lost in chargebacks."
   ]
  },
  {
   "cell_type": "code",
   "execution_count": 34,
   "id": "8d825a9c",
   "metadata": {},
   "outputs": [
    {
     "data": {
      "text/html": [
       "<div>\n",
       "<style scoped>\n",
       "    .dataframe tbody tr th:only-of-type {\n",
       "        vertical-align: middle;\n",
       "    }\n",
       "\n",
       "    .dataframe tbody tr th {\n",
       "        vertical-align: top;\n",
       "    }\n",
       "\n",
       "    .dataframe thead th {\n",
       "        text-align: right;\n",
       "    }\n",
       "</style>\n",
       "<table border=\"1\" class=\"dataframe\">\n",
       "  <thead>\n",
       "    <tr style=\"text-align: right;\">\n",
       "      <th></th>\n",
       "      <th>transaction_amount</th>\n",
       "    </tr>\n",
       "    <tr>\n",
       "      <th>merchant_id</th>\n",
       "      <th></th>\n",
       "    </tr>\n",
       "  </thead>\n",
       "  <tbody>\n",
       "    <tr>\n",
       "      <th>1017</th>\n",
       "      <td>10.87</td>\n",
       "    </tr>\n",
       "    <tr>\n",
       "      <th>1175</th>\n",
       "      <td>456.48</td>\n",
       "    </tr>\n",
       "    <tr>\n",
       "      <th>1308</th>\n",
       "      <td>34517.94</td>\n",
       "    </tr>\n",
       "    <tr>\n",
       "      <th>2842</th>\n",
       "      <td>351.63</td>\n",
       "    </tr>\n",
       "    <tr>\n",
       "      <th>3109</th>\n",
       "      <td>1847.38</td>\n",
       "    </tr>\n",
       "    <tr>\n",
       "      <th>...</th>\n",
       "      <td>...</td>\n",
       "    </tr>\n",
       "    <tr>\n",
       "      <th>96692</th>\n",
       "      <td>980.74</td>\n",
       "    </tr>\n",
       "    <tr>\n",
       "      <th>97291</th>\n",
       "      <td>7482.51</td>\n",
       "    </tr>\n",
       "    <tr>\n",
       "      <th>98272</th>\n",
       "      <td>5803.80</td>\n",
       "    </tr>\n",
       "    <tr>\n",
       "      <th>99510</th>\n",
       "      <td>5991.78</td>\n",
       "    </tr>\n",
       "    <tr>\n",
       "      <th>99644</th>\n",
       "      <td>2566.07</td>\n",
       "    </tr>\n",
       "  </tbody>\n",
       "</table>\n",
       "<p>118 rows × 1 columns</p>\n",
       "</div>"
      ],
      "text/plain": [
       "             transaction_amount\n",
       "merchant_id                    \n",
       "1017                      10.87\n",
       "1175                     456.48\n",
       "1308                   34517.94\n",
       "2842                     351.63\n",
       "3109                    1847.38\n",
       "...                         ...\n",
       "96692                    980.74\n",
       "97291                   7482.51\n",
       "98272                   5803.80\n",
       "99510                   5991.78\n",
       "99644                   2566.07\n",
       "\n",
       "[118 rows x 1 columns]"
      ]
     },
     "execution_count": 34,
     "metadata": {},
     "output_type": "execute_result"
    }
   ],
   "source": [
    "# Query of transaction amount of +cbk transactions, organized by merchant\n",
    "transactions.loc[transactions['has_cbk'] == True, ['merchant_id', 'transaction_amount']].groupby('merchant_id').sum()"
   ]
  },
  {
   "cell_type": "code",
   "execution_count": 35,
   "id": "a9bcc338",
   "metadata": {
    "scrolled": true
   },
   "outputs": [
    {
     "name": "stdout",
     "output_type": "stream",
     "text": [
      "52\n"
     ]
    },
    {
     "data": {
      "text/html": [
       "<div>\n",
       "<style scoped>\n",
       "    .dataframe tbody tr th:only-of-type {\n",
       "        vertical-align: middle;\n",
       "    }\n",
       "\n",
       "    .dataframe tbody tr th {\n",
       "        vertical-align: top;\n",
       "    }\n",
       "\n",
       "    .dataframe thead th {\n",
       "        text-align: right;\n",
       "    }\n",
       "</style>\n",
       "<table border=\"1\" class=\"dataframe\">\n",
       "  <thead>\n",
       "    <tr style=\"text-align: right;\">\n",
       "      <th></th>\n",
       "      <th>transaction_amount</th>\n",
       "    </tr>\n",
       "    <tr>\n",
       "      <th>merchant_id</th>\n",
       "      <th></th>\n",
       "    </tr>\n",
       "  </thead>\n",
       "  <tbody>\n",
       "    <tr>\n",
       "      <th>4153</th>\n",
       "      <td>213.31</td>\n",
       "    </tr>\n",
       "    <tr>\n",
       "      <th>4705</th>\n",
       "      <td>1983.40</td>\n",
       "    </tr>\n",
       "    <tr>\n",
       "      <th>5404</th>\n",
       "      <td>2688.30</td>\n",
       "    </tr>\n",
       "    <tr>\n",
       "      <th>11973</th>\n",
       "      <td>685.92</td>\n",
       "    </tr>\n",
       "    <tr>\n",
       "      <th>12745</th>\n",
       "      <td>3759.65</td>\n",
       "    </tr>\n",
       "    <tr>\n",
       "      <th>16266</th>\n",
       "      <td>1260.64</td>\n",
       "    </tr>\n",
       "    <tr>\n",
       "      <th>17275</th>\n",
       "      <td>4167.47</td>\n",
       "    </tr>\n",
       "    <tr>\n",
       "      <th>18267</th>\n",
       "      <td>1972.13</td>\n",
       "    </tr>\n",
       "    <tr>\n",
       "      <th>18344</th>\n",
       "      <td>1195.42</td>\n",
       "    </tr>\n",
       "    <tr>\n",
       "      <th>20663</th>\n",
       "      <td>778.71</td>\n",
       "    </tr>\n",
       "    <tr>\n",
       "      <th>23017</th>\n",
       "      <td>627.54</td>\n",
       "    </tr>\n",
       "    <tr>\n",
       "      <th>23722</th>\n",
       "      <td>5.65</td>\n",
       "    </tr>\n",
       "    <tr>\n",
       "      <th>25473</th>\n",
       "      <td>10.23</td>\n",
       "    </tr>\n",
       "    <tr>\n",
       "      <th>29214</th>\n",
       "      <td>572.82</td>\n",
       "    </tr>\n",
       "    <tr>\n",
       "      <th>29744</th>\n",
       "      <td>10170.73</td>\n",
       "    </tr>\n",
       "    <tr>\n",
       "      <th>36617</th>\n",
       "      <td>50.71</td>\n",
       "    </tr>\n",
       "    <tr>\n",
       "      <th>36700</th>\n",
       "      <td>4036.96</td>\n",
       "    </tr>\n",
       "    <tr>\n",
       "      <th>38755</th>\n",
       "      <td>649.27</td>\n",
       "    </tr>\n",
       "    <tr>\n",
       "      <th>38901</th>\n",
       "      <td>348.10</td>\n",
       "    </tr>\n",
       "    <tr>\n",
       "      <th>39253</th>\n",
       "      <td>106.39</td>\n",
       "    </tr>\n",
       "    <tr>\n",
       "      <th>42356</th>\n",
       "      <td>1130.58</td>\n",
       "    </tr>\n",
       "    <tr>\n",
       "      <th>46045</th>\n",
       "      <td>20.17</td>\n",
       "    </tr>\n",
       "    <tr>\n",
       "      <th>48912</th>\n",
       "      <td>2.23</td>\n",
       "    </tr>\n",
       "    <tr>\n",
       "      <th>48982</th>\n",
       "      <td>30.05</td>\n",
       "    </tr>\n",
       "    <tr>\n",
       "      <th>49909</th>\n",
       "      <td>2543.00</td>\n",
       "    </tr>\n",
       "    <tr>\n",
       "      <th>49919</th>\n",
       "      <td>924.93</td>\n",
       "    </tr>\n",
       "    <tr>\n",
       "      <th>53041</th>\n",
       "      <td>9658.25</td>\n",
       "    </tr>\n",
       "    <tr>\n",
       "      <th>54572</th>\n",
       "      <td>451.79</td>\n",
       "    </tr>\n",
       "    <tr>\n",
       "      <th>55854</th>\n",
       "      <td>861.88</td>\n",
       "    </tr>\n",
       "    <tr>\n",
       "      <th>56107</th>\n",
       "      <td>31.94</td>\n",
       "    </tr>\n",
       "    <tr>\n",
       "      <th>60526</th>\n",
       "      <td>181.63</td>\n",
       "    </tr>\n",
       "    <tr>\n",
       "      <th>60779</th>\n",
       "      <td>1078.53</td>\n",
       "    </tr>\n",
       "    <tr>\n",
       "      <th>62052</th>\n",
       "      <td>9357.39</td>\n",
       "    </tr>\n",
       "    <tr>\n",
       "      <th>63050</th>\n",
       "      <td>2249.51</td>\n",
       "    </tr>\n",
       "    <tr>\n",
       "      <th>65330</th>\n",
       "      <td>6017.23</td>\n",
       "    </tr>\n",
       "    <tr>\n",
       "      <th>66876</th>\n",
       "      <td>555.53</td>\n",
       "    </tr>\n",
       "    <tr>\n",
       "      <th>68953</th>\n",
       "      <td>5635.55</td>\n",
       "    </tr>\n",
       "    <tr>\n",
       "      <th>71378</th>\n",
       "      <td>530.73</td>\n",
       "    </tr>\n",
       "    <tr>\n",
       "      <th>71507</th>\n",
       "      <td>240.78</td>\n",
       "    </tr>\n",
       "    <tr>\n",
       "      <th>76725</th>\n",
       "      <td>3517.96</td>\n",
       "    </tr>\n",
       "    <tr>\n",
       "      <th>77130</th>\n",
       "      <td>20.34</td>\n",
       "    </tr>\n",
       "    <tr>\n",
       "      <th>81894</th>\n",
       "      <td>404.82</td>\n",
       "    </tr>\n",
       "    <tr>\n",
       "      <th>82867</th>\n",
       "      <td>5.17</td>\n",
       "    </tr>\n",
       "    <tr>\n",
       "      <th>84970</th>\n",
       "      <td>20.25</td>\n",
       "    </tr>\n",
       "    <tr>\n",
       "      <th>90035</th>\n",
       "      <td>2054.76</td>\n",
       "    </tr>\n",
       "    <tr>\n",
       "      <th>91446</th>\n",
       "      <td>6695.42</td>\n",
       "    </tr>\n",
       "    <tr>\n",
       "      <th>91972</th>\n",
       "      <td>4226.30</td>\n",
       "    </tr>\n",
       "    <tr>\n",
       "      <th>92895</th>\n",
       "      <td>99.49</td>\n",
       "    </tr>\n",
       "    <tr>\n",
       "      <th>94198</th>\n",
       "      <td>252.61</td>\n",
       "    </tr>\n",
       "    <tr>\n",
       "      <th>97291</th>\n",
       "      <td>1766.24</td>\n",
       "    </tr>\n",
       "    <tr>\n",
       "      <th>98272</th>\n",
       "      <td>3176.25</td>\n",
       "    </tr>\n",
       "    <tr>\n",
       "      <th>99510</th>\n",
       "      <td>2965.31</td>\n",
       "    </tr>\n",
       "  </tbody>\n",
       "</table>\n",
       "</div>"
      ],
      "text/plain": [
       "             transaction_amount\n",
       "merchant_id                    \n",
       "4153                     213.31\n",
       "4705                    1983.40\n",
       "5404                    2688.30\n",
       "11973                    685.92\n",
       "12745                   3759.65\n",
       "16266                   1260.64\n",
       "17275                   4167.47\n",
       "18267                   1972.13\n",
       "18344                   1195.42\n",
       "20663                    778.71\n",
       "23017                    627.54\n",
       "23722                      5.65\n",
       "25473                     10.23\n",
       "29214                    572.82\n",
       "29744                  10170.73\n",
       "36617                     50.71\n",
       "36700                   4036.96\n",
       "38755                    649.27\n",
       "38901                    348.10\n",
       "39253                    106.39\n",
       "42356                   1130.58\n",
       "46045                     20.17\n",
       "48912                      2.23\n",
       "48982                     30.05\n",
       "49909                   2543.00\n",
       "49919                    924.93\n",
       "53041                   9658.25\n",
       "54572                    451.79\n",
       "55854                    861.88\n",
       "56107                     31.94\n",
       "60526                    181.63\n",
       "60779                   1078.53\n",
       "62052                   9357.39\n",
       "63050                   2249.51\n",
       "65330                   6017.23\n",
       "66876                    555.53\n",
       "68953                   5635.55\n",
       "71378                    530.73\n",
       "71507                    240.78\n",
       "76725                   3517.96\n",
       "77130                     20.34\n",
       "81894                    404.82\n",
       "82867                      5.17\n",
       "84970                     20.25\n",
       "90035                   2054.76\n",
       "91446                   6695.42\n",
       "91972                   4226.30\n",
       "92895                     99.49\n",
       "94198                    252.61\n",
       "97291                   1766.24\n",
       "98272                   3176.25\n",
       "99510                   2965.31"
      ]
     },
     "execution_count": 35,
     "metadata": {},
     "output_type": "execute_result"
    }
   ],
   "source": [
    "# Query of transaction amount of -cbk transactions, organized by merchant\n",
    "print(transactions.loc[(transactions['has_cbk'] == False) & merchant_cbk_filter, ['merchant_id', 'transaction_amount']].groupby('merchant_id').sum().shape[0])\n",
    "transactions.loc[(transactions['has_cbk'] == False) & merchant_cbk_filter, ['merchant_id', 'transaction_amount']].groupby('merchant_id').sum()"
   ]
  },
  {
   "cell_type": "markdown",
   "id": "dcdf93be",
   "metadata": {},
   "source": [
    "A very curious information is presented here. Note how the size of the lists obtained in the previous two queries do not coincide (<b>118</b> for the first and <b>52</b> for the second). Upon inspecting the boolean sentences passed into the `.loc[]` function for each query, we conclude that 118 - 52 = <b>66</b> merchants have <u>only</u> +cbk transactions. In other words, more than half of the `cbk_merchants` have no -cbk transactions.\n",
    "\n",
    "We proceed with the previous objective of grouping merchants with respect to percentage of +cbk transactions."
   ]
  },
  {
   "cell_type": "code",
   "execution_count": 36,
   "id": "9846eb8f",
   "metadata": {},
   "outputs": [],
   "source": [
    "# Table of all +cbk transactions of all the merchants that have that have +cbk transactions\n",
    "cbk_merchants_p = transactions.loc[(transactions['has_cbk'] == True), ['merchant_id', 'transaction_amount']].groupby('merchant_id').sum()\n",
    "\n",
    "# Table of all -cbk transactions of all the merchants that have +cbk transactions\n",
    "cbk_merchants_n = transactions.loc[(transactions['has_cbk'] == False) & merchant_cbk_filter,  ['merchant_id', 'transaction_amount']].groupby('merchant_id').sum()"
   ]
  },
  {
   "cell_type": "code",
   "execution_count": 164,
   "id": "319be35e",
   "metadata": {
    "scrolled": true
   },
   "outputs": [],
   "source": [
    "# Defining list of total liquid value of the merchants' transactions\n",
    "cbk_merchants_t = transactions.loc[merchant_cbk_filter, ['merchant_id','transaction_amount']].groupby('merchant_id').sum()\n",
    "\n",
    "# Defining percentage of total value of the merchants' +cbk transactions over the total liquid value\n",
    "perc_cbk_merchants_p = cbk_merchants_p['transaction_amount'] / cbk_merchants_t['transaction_amount']"
   ]
  },
  {
   "cell_type": "code",
   "execution_count": 165,
   "id": "f987d621",
   "metadata": {
    "scrolled": false
   },
   "outputs": [
    {
     "data": {
      "text/plain": [
       "<AxesSubplot:xlabel='cbk_merchants +cbk transaction value percentage', ylabel='Counts'>"
      ]
     },
     "execution_count": 165,
     "metadata": {},
     "output_type": "execute_result"
    },
    {
     "data": {
      "image/png": "[encoded data removed]",
      "text/plain": [
       "<Figure size 1008x432 with 1 Axes>"
      ]
     },
     "metadata": {
      "needs_background": "light"
     },
     "output_type": "display_data"
    }
   ],
   "source": [
    "plt.figure(figsize = (14, 6))\n",
    "plt.xlabel('cbk_merchants +cbk transaction value percentage')\n",
    "plt.ylabel('Counts')\n",
    "\n",
    "# Create histogram of the percentages\n",
    "perc_cbk_merchants_p.hist(xlabelsize = 14, ylabelsize = 14, edgecolor = 'black',bins = 10, figsize = (14,6))"
   ]
  },
  {
   "cell_type": "code",
   "execution_count": 194,
   "id": "9dd98958",
   "metadata": {},
   "outputs": [
    {
     "name": "stdout",
     "output_type": "stream",
     "text": [
      "Number of cbk_merchants whose +cbk transaction value is larger than 50%: 108\n",
      "\n",
      "Number of cbk_merchants whose +cbk transaction value is larger than 90%: 80\n"
     ]
    }
   ],
   "source": [
    "print('Number of cbk_merchants whose +cbk transaction value is larger than 50%:',sum(perc_cbk_merchants_p >= 0.5)) \n",
    "print('\\nNumber of cbk_merchants whose +cbk transaction value is larger than 90%:', sum(perc_cbk_merchants_p >= 0.9))"
   ]
  },
  {
   "cell_type": "markdown",
   "id": "ea6b3bf9",
   "metadata": {},
   "source": [
    "For most `cbk_merchants` (<b>80</b>), the value of their +cbk transactions exceed <b>90%</b> of the total value of their sales."
   ]
  },
  {
   "cell_type": "markdown",
   "id": "cdd98874",
   "metadata": {},
   "source": [
    "### 3.2. `cbk_merchants` grouped in terms of price range"
   ]
  },
  {
   "cell_type": "code",
   "execution_count": 40,
   "id": "4c40b284",
   "metadata": {},
   "outputs": [
    {
     "name": "stdout",
     "output_type": "stream",
     "text": [
      "       transaction_amount\n",
      "count           52.000000\n",
      "mean           732.134394\n",
      "std            919.678523\n",
      "min              2.230000\n",
      "25%            104.482000\n",
      "50%            417.880000\n",
      "75%            947.965750\n",
      "max           4036.960000\n",
      "       transaction_amount\n",
      "count          118.000000\n",
      "mean          1537.954006\n",
      "std           1154.029790\n",
      "min              2.890000\n",
      "25%            573.750000\n",
      "50%           1058.432500\n",
      "75%           2514.205000\n",
      "max           4023.150000\n"
     ]
    }
   ],
   "source": [
    "# Calculate the mean transaction value of the merchants \n",
    "merchant_p_cbk_transaction_average = transactions.loc[transactions['has_cbk'] == True, ['merchant_id', 'transaction_amount']].groupby('merchant_id').mean()\n",
    "merchant_n_cbk_transaction_average = transactions.loc[(transactions['has_cbk'] == False) & merchant_cbk_filter, ['merchant_id', 'transaction_amount']].groupby('merchant_id').mean()\n",
    "print(merchant_n_cbk_transaction_average.describe())\n",
    "print(merchant_p_cbk_transaction_average.describe())"
   ]
  },
  {
   "cell_type": "markdown",
   "id": "dd52d086",
   "metadata": {},
   "source": [
    "The range of prices spans from as low as 2.23 to as high as 4036.96. "
   ]
  },
  {
   "cell_type": "code",
   "execution_count": 167,
   "id": "e5e8fd5e",
   "metadata": {
    "scrolled": false
   },
   "outputs": [
    {
     "data": {
      "text/plain": [
       "array([[<AxesSubplot:title={'center':'transaction_amount'}>]],\n",
       "      dtype=object)"
      ]
     },
     "execution_count": 167,
     "metadata": {},
     "output_type": "execute_result"
    },
    {
     "data": {
      "image/png": "[encoded data removed]",
      "text/plain": [
       "<Figure size 1008x432 with 1 Axes>"
      ]
     },
     "metadata": {
      "needs_background": "light"
     },
     "output_type": "display_data"
    }
   ],
   "source": [
    "# Create histogram of the percentages\n",
    "merchant_n_cbk_transaction_average.hist(xlabelsize = 14, ylabelsize = 14, bins = 20, figsize = (14,6),edgecolor = 'black',  color = 'orange')"
   ]
  },
  {
   "cell_type": "code",
   "execution_count": 166,
   "id": "ab0fe475",
   "metadata": {
    "scrolled": false
   },
   "outputs": [
    {
     "data": {
      "text/plain": [
       "array([[<AxesSubplot:title={'center':'transaction_amount'}>]],\n",
       "      dtype=object)"
      ]
     },
     "execution_count": 166,
     "metadata": {},
     "output_type": "execute_result"
    },
    {
     "data": {
      "image/png": "[encoded data removed]",
      "text/plain": [
       "<Figure size 1008x432 with 1 Axes>"
      ]
     },
     "metadata": {
      "needs_background": "light"
     },
     "output_type": "display_data"
    }
   ],
   "source": [
    "merchant_p_cbk_transaction_average.hist(xlabelsize = 14, ylabelsize = 14, bins = 20, figsize = (14,6),edgecolor = 'black')"
   ]
  },
  {
   "cell_type": "code",
   "execution_count": 43,
   "id": "e0fcfdf5",
   "metadata": {
    "scrolled": false
   },
   "outputs": [
    {
     "data": {
      "text/plain": [
       "array([[<AxesSubplot:title={'center':'transaction_amount'}>,\n",
       "        <AxesSubplot:title={'center':'transaction_amount'}>]],\n",
       "      dtype=object)"
      ]
     },
     "execution_count": 43,
     "metadata": {},
     "output_type": "execute_result"
    },
    {
     "data": {
      "image/png": "[encoded data removed]",
      "text/plain": [
       "<Figure size 1008x432 with 2 Axes>"
      ]
     },
     "metadata": {
      "needs_background": "light"
     },
     "output_type": "display_data"
    }
   ],
   "source": [
    "cbk_merchant_forplot = pd.concat([merchant_p_cbk_transaction_average, merchant_n_cbk_transaction_average], axis = 1)\n",
    "cbk_merchant_forplot.hist(figsize = (14,6))"
   ]
  },
  {
   "cell_type": "markdown",
   "id": "6cf4b3e6",
   "metadata": {},
   "source": [
    "In the above graphs, orange relates to -cbk transactions and blue to +cbk transactions.\n",
    "\n",
    "From the graphs, we observe notable spikes in +cbk transactions for the price ranges <b>(400, 600], (800, 1000] ; (1800, 2000] ; (2400, 2600] ; (3800+)</b>."
   ]
  },
  {
   "cell_type": "markdown",
   "id": "f646c922",
   "metadata": {},
   "source": [
    "### 3.3. Conclusions"
   ]
  },
  {
   "cell_type": "markdown",
   "id": "aa5c1342",
   "metadata": {},
   "source": [
    "In this section of the analysis, we have specified the group of merchants that suffered some form of chargeback on their transactions. This group, which we called `cbk_merchants`, is comprised of <b>118</b> merchants. The total transactions associated with these merchants is <b>532</b>. Of these, <b>391</b> (<b>73.5%</b>) are +cbk transactions and <b>141</b> (<b>26.5%</b>) are -cbk transactions. \n",
    "\n",
    "Furthermore, the +cbk transactions of <b>108/80/66 (91.5%/67.8%/55.9%) </b> `cbk_merchants` exceed <b>50%/90%/100%</b> of their total value of sales. That is, the few merchants with +cbk transactions are at risk of very high potential losses due to chargeback fraud.\n",
    "\n",
    "Given the relatively small number of merchants involved in potential chargeback fraud, instead of comparing prior transaction history of each individual merchant, we grouped them in terms of price range. More specifically, in terms of histograms of average transaction amount. We found that the price ranges <b>(400, 600], (800, 1000] ; (1800, 2000] ; (2400, 2600] ; (3800+)</b> were the ones that mostly deviated from the character of the -cbk transactions."
   ]
  },
  {
   "cell_type": "markdown",
   "id": "e2867b5f",
   "metadata": {},
   "source": [
    "## 4. User Analysis"
   ]
  },
  {
   "cell_type": "markdown",
   "id": "d4375881",
   "metadata": {},
   "source": [
    "This part of the analysis is dedicated to the behavior of the <b>2704</b> distinct customers (`user_id`). To make purchases, these customers used a combined total of <b>2925</b> credit cards."
   ]
  },
  {
   "cell_type": "code",
   "execution_count": 47,
   "id": "6fd11474",
   "metadata": {},
   "outputs": [
    {
     "name": "stdout",
     "output_type": "stream",
     "text": [
      "Statistical distribution of users with +cbk transactions:\n",
      "\n",
      "          has_cbk\n",
      "count  153.000000\n",
      "mean     2.555556\n",
      "std      3.122265\n",
      "min      1.000000\n",
      "25%      1.000000\n",
      "50%      2.000000\n",
      "75%      3.000000\n",
      "max     25.000000\n"
     ]
    }
   ],
   "source": [
    "# Number of users with +cbk transactions\n",
    "user_cbk_counts = transactions.loc[transactions['has_cbk'] == True, ['user_id', 'has_cbk']].groupby('user_id').sum()\n",
    "print('Statistical distribution of users with +cbk transactions:\\n')\n",
    "print(user_cbk_counts.describe())"
   ]
  },
  {
   "cell_type": "markdown",
   "id": "88cfa8d7",
   "metadata": {},
   "source": [
    "This means that the <b>391</b> chargebacks were requested by only <b>153</b> customers. Akin to the previous section, we shall denominate this group as `cbk_users`."
   ]
  },
  {
   "cell_type": "code",
   "execution_count": 48,
   "id": "f353a3f0",
   "metadata": {},
   "outputs": [
    {
     "data": {
      "text/plain": [
       "3185    75889\n",
       "3180    96495\n",
       "3165    19820\n",
       "3142    76819\n",
       "3135    24027\n",
       "        ...  \n",
       "43      10241\n",
       "34       5541\n",
       "32      69758\n",
       "13      81152\n",
       "1        2708\n",
       "Name: user_id, Length: 153, dtype: int64"
      ]
     },
     "execution_count": 48,
     "metadata": {},
     "output_type": "execute_result"
    }
   ],
   "source": [
    "cbk_users = transactions.loc[transactions['has_cbk'] == True, ['user_id', 'has_cbk']].drop_duplicates()['user_id']\n",
    "cbk_users"
   ]
  },
  {
   "cell_type": "code",
   "execution_count": 49,
   "id": "1c4cf827",
   "metadata": {},
   "outputs": [
    {
     "name": "stdout",
     "output_type": "stream",
     "text": [
      "cbk_users total transactions:  455\n",
      "cbk_users -cbk transactions:  64\n",
      "cbk_users +cbk transactions:  391\n"
     ]
    }
   ],
   "source": [
    "cbk_users_transactions_t = transactions['user_id'].isin(cbk_users).sum()\n",
    "cbk_users_transactions_p = transactions.loc[transactions['has_cbk'] == True, :].shape[0]\n",
    "cbk_users_transactions_n = cbk_users_transactions_t - cbk_users_transactions_p\n",
    "print('cbk_users total transactions: ', cbk_users_transactions_t)\n",
    "print('cbk_users -cbk transactions: ', cbk_users_transactions_n)\n",
    "print('cbk_users +cbk transactions: ', cbk_users_transactions_p)"
   ]
  },
  {
   "cell_type": "markdown",
   "id": "a497c88b",
   "metadata": {},
   "source": [
    "#### Q1. What percentage/number of users have more than 1 +cbk transaction? Calculate the same quantity for `cbk_users`."
   ]
  },
  {
   "cell_type": "code",
   "execution_count": 51,
   "id": "060e339b",
   "metadata": {},
   "outputs": [
    {
     "name": "stdout",
     "output_type": "stream",
     "text": [
      "Users with more than 1 +cbk transaction:  78 , 2.88%\n",
      "cbk_users with more than 1 +cbk transaction:  78 , 50.98%\n"
     ]
    }
   ],
   "source": [
    "# More than 1 +cbk filter\n",
    "print('Users with more than 1 +cbk transaction: ', sum(user_cbk_counts['has_cbk'] > 1) ,',',\"{0:.2%}\".format(sum(user_cbk_counts['has_cbk'] > 1) / transactions['user_id'].nunique()))\n",
    "print('cbk_users with more than 1 +cbk transaction: ', sum(user_cbk_counts['has_cbk'] > 1),',',\"{0:.2%}\".format(sum(user_cbk_counts['has_cbk'] > 1) / cbk_users.shape[0]))"
   ]
  },
  {
   "cell_type": "markdown",
   "id": "30e8dcf0",
   "metadata": {},
   "source": [
    "This tells us is that less than <b>3%</b> of the customers have previous histories of chargebacks. In addition, for customers that have at least 1 chargeback (`cbk_users`), it is more likely that they have additional chargeback requests than not. \n",
    "\n",
    "Therefore, another behavior we should be suspicious of is:\n",
    "\n",
    "- <b>Customers with more than 1 chargeback request.</b>"
   ]
  },
  {
   "cell_type": "code",
   "execution_count": 171,
   "id": "07249042",
   "metadata": {},
   "outputs": [
    {
     "data": {
      "text/html": [
       "<div>\n",
       "<style scoped>\n",
       "    .dataframe tbody tr th:only-of-type {\n",
       "        vertical-align: middle;\n",
       "    }\n",
       "\n",
       "    .dataframe tbody tr th {\n",
       "        vertical-align: top;\n",
       "    }\n",
       "\n",
       "    .dataframe thead th {\n",
       "        text-align: right;\n",
       "    }\n",
       "</style>\n",
       "<table border=\"1\" class=\"dataframe\">\n",
       "  <thead>\n",
       "    <tr style=\"text-align: right;\">\n",
       "      <th></th>\n",
       "      <th>has_cbk</th>\n",
       "    </tr>\n",
       "    <tr>\n",
       "      <th>user_id</th>\n",
       "      <th></th>\n",
       "    </tr>\n",
       "  </thead>\n",
       "  <tbody>\n",
       "    <tr>\n",
       "      <th>900</th>\n",
       "      <td>False</td>\n",
       "    </tr>\n",
       "    <tr>\n",
       "      <th>2708</th>\n",
       "      <td>False</td>\n",
       "    </tr>\n",
       "    <tr>\n",
       "      <th>3157</th>\n",
       "      <td>False</td>\n",
       "    </tr>\n",
       "    <tr>\n",
       "      <th>3584</th>\n",
       "      <td>True</td>\n",
       "    </tr>\n",
       "    <tr>\n",
       "      <th>4651</th>\n",
       "      <td>True</td>\n",
       "    </tr>\n",
       "    <tr>\n",
       "      <th>...</th>\n",
       "      <td>...</td>\n",
       "    </tr>\n",
       "    <tr>\n",
       "      <th>96976</th>\n",
       "      <td>False</td>\n",
       "    </tr>\n",
       "    <tr>\n",
       "      <th>97150</th>\n",
       "      <td>False</td>\n",
       "    </tr>\n",
       "    <tr>\n",
       "      <th>97611</th>\n",
       "      <td>True</td>\n",
       "    </tr>\n",
       "    <tr>\n",
       "      <th>99396</th>\n",
       "      <td>True</td>\n",
       "    </tr>\n",
       "    <tr>\n",
       "      <th>99876</th>\n",
       "      <td>False</td>\n",
       "    </tr>\n",
       "  </tbody>\n",
       "</table>\n",
       "<p>153 rows × 1 columns</p>\n",
       "</div>"
      ],
      "text/plain": [
       "         has_cbk\n",
       "user_id         \n",
       "900        False\n",
       "2708       False\n",
       "3157       False\n",
       "3584        True\n",
       "4651        True\n",
       "...          ...\n",
       "96976      False\n",
       "97150      False\n",
       "97611       True\n",
       "99396       True\n",
       "99876      False\n",
       "\n",
       "[153 rows x 1 columns]"
      ]
     },
     "execution_count": 171,
     "metadata": {},
     "output_type": "execute_result"
    }
   ],
   "source": [
    "# Filter of all cbk_users with more than 1 cbk\n",
    "cbk_users_1_filter = (user_cbk_counts > 1)\n",
    "cbk_users_1_filter"
   ]
  },
  {
   "cell_type": "markdown",
   "id": "17b3e117",
   "metadata": {},
   "source": [
    "#### Q2. How many users have <u>only</u> +cbk transactions?"
   ]
  },
  {
   "cell_type": "code",
   "execution_count": 53,
   "id": "ce179ed2",
   "metadata": {},
   "outputs": [
    {
     "name": "stdout",
     "output_type": "stream",
     "text": [
      "Users with only +cbk transactions:  120 , 4.44%\n",
      "cbk_users with only cbk transactions:  120 , 78.43%\n"
     ]
    }
   ],
   "source": [
    "# Define the cbk users filter\n",
    "cbk_users_filter = transactions['user_id'].isin(cbk_users)\n",
    "cbk_users_n = transactions.loc[cbk_users_filter & (transactions['has_cbk'] == False), :]['user_id'].drop_duplicates()\n",
    "\n",
    "# Define the cbk users +/-cbk transactions filters\n",
    "cbk_users_n_filter = cbk_users.isin(cbk_users_n)\n",
    "cbk_users_p_filter = ~cbk_users_n_filter\n",
    "cbk_users_p = transactions.loc[cbk_users_filter & cbk_users_p_filter, :]['user_id'].drop_duplicates()\n",
    "\n",
    "# Print the numbers, percentages\n",
    "print('Users with only +cbk transactions: ', cbk_users_p.shape[0], ',', \"{0:.2%}\".format(cbk_users_p.shape[0] / transactions['user_id'].nunique()))\n",
    "print('cbk_users with only cbk transactions: ', cbk_users_p.shape[0],',', \"{0:.2%}\".format(cbk_users_p.shape[0] / cbk_users.shape[0]))"
   ]
  },
  {
   "cell_type": "markdown",
   "id": "3d6ede4a",
   "metadata": {},
   "source": [
    "This means that out of the 153 customers, <b>120</b> have only chargeback transactions. These queries give us an idea for suspicious behavior: \n",
    "\n",
    "- <b>Customers that have no -cbk transactions</b>."
   ]
  },
  {
   "cell_type": "code",
   "execution_count": 54,
   "id": "9437f137",
   "metadata": {
    "scrolled": true
   },
   "outputs": [
    {
     "data": {
      "text/plain": [
       "3185     True\n",
       "3180     True\n",
       "3165     True\n",
       "3142     True\n",
       "3135     True\n",
       "        ...  \n",
       "43      False\n",
       "34       True\n",
       "32       True\n",
       "13       True\n",
       "1       False\n",
       "Name: user_id, Length: 153, dtype: bool"
      ]
     },
     "execution_count": 54,
     "metadata": {},
     "output_type": "execute_result"
    }
   ],
   "source": [
    "cbk_users_p_filter"
   ]
  },
  {
   "cell_type": "markdown",
   "id": "220f3c0d",
   "metadata": {},
   "source": [
    "#### Q3. What is the number/percentage of customers with more than 1 credit card? How does this change for `cbk_users`?"
   ]
  },
  {
   "cell_type": "code",
   "execution_count": 181,
   "id": "ccd1806b",
   "metadata": {
    "scrolled": true
   },
   "outputs": [
    {
     "name": "stdout",
     "output_type": "stream",
     "text": [
      "Users with extra cards:  167 , 5.22%\n",
      "cbk_users with extra cards: 75 , 49.02%\n"
     ]
    }
   ],
   "source": [
    "users_extra_cards = transactions.loc[:,['user_id', 'card_number']].groupby('user_id').value_counts() > 1\n",
    "cbk_users_extra_cards = transactions.loc[cbk_users_filter ,['user_id', 'card_number']].groupby('user_id').value_counts() > 1\n",
    "print('Users with extra cards: ', sum(users_extra_cards),',',  \"{0:.2%}\".format(sum(users_extra_cards) / transactions['user_id'].shape[0]))\n",
    "print('cbk_users with extra cards:', sum(cbk_users_extra_cards) ,',', \"{0:.2%}\".format(sum(cbk_users_extra_cards) / cbk_users.shape[0]))"
   ]
  },
  {
   "cell_type": "markdown",
   "id": "fe8bbe34",
   "metadata": {},
   "source": [
    "What the above result tells us is that customers with chargeback history (`cbk_users`) are more likely to own more than 1 card. The reason for this in the context of chargeback fraud would be to not accumulate chargebacks in the same credit card, as to not alert their credic card company. Then, another suspicious quality to be aware of is:\n",
    "\n",
    "- <b>Customers that have more than 1 credit card</b>."
   ]
  },
  {
   "cell_type": "markdown",
   "id": "64064a57",
   "metadata": {},
   "source": [
    "### 4.1. Average intervals between user transactions"
   ]
  },
  {
   "cell_type": "markdown",
   "id": "f34faeed",
   "metadata": {},
   "source": [
    "We shall now study the user temporal behavior with respect to the `is_black_friday` column."
   ]
  },
  {
   "cell_type": "markdown",
   "id": "bb09ad60",
   "metadata": {},
   "source": [
    "##### Outside Black Friday"
   ]
  },
  {
   "cell_type": "code",
   "execution_count": 56,
   "id": "01d7e9aa",
   "metadata": {},
   "outputs": [
    {
     "data": {
      "text/html": [
       "<div>\n",
       "<style scoped>\n",
       "    .dataframe tbody tr th:only-of-type {\n",
       "        vertical-align: middle;\n",
       "    }\n",
       "\n",
       "    .dataframe tbody tr th {\n",
       "        vertical-align: top;\n",
       "    }\n",
       "\n",
       "    .dataframe thead th {\n",
       "        text-align: right;\n",
       "    }\n",
       "</style>\n",
       "<table border=\"1\" class=\"dataframe\">\n",
       "  <thead>\n",
       "    <tr style=\"text-align: right;\">\n",
       "      <th></th>\n",
       "      <th>transaction_time_delta</th>\n",
       "    </tr>\n",
       "  </thead>\n",
       "  <tbody>\n",
       "    <tr>\n",
       "      <th>count</th>\n",
       "      <td>841</td>\n",
       "    </tr>\n",
       "    <tr>\n",
       "      <th>mean</th>\n",
       "      <td>0 days 00:30:28.072368002</td>\n",
       "    </tr>\n",
       "    <tr>\n",
       "      <th>std</th>\n",
       "      <td>0 days 01:16:14.961277419</td>\n",
       "    </tr>\n",
       "    <tr>\n",
       "      <th>min</th>\n",
       "      <td>0 days 00:00:04.620967</td>\n",
       "    </tr>\n",
       "    <tr>\n",
       "      <th>25%</th>\n",
       "      <td>0 days 00:04:06.874086</td>\n",
       "    </tr>\n",
       "    <tr>\n",
       "      <th>50%</th>\n",
       "      <td>0 days 00:10:50.951282</td>\n",
       "    </tr>\n",
       "    <tr>\n",
       "      <th>75%</th>\n",
       "      <td>0 days 00:26:29.624067</td>\n",
       "    </tr>\n",
       "    <tr>\n",
       "      <th>max</th>\n",
       "      <td>0 days 11:53:21.746908</td>\n",
       "    </tr>\n",
       "  </tbody>\n",
       "</table>\n",
       "</div>"
      ],
      "text/plain": [
       "          transaction_time_delta\n",
       "count                        841\n",
       "mean   0 days 00:30:28.072368002\n",
       "std    0 days 01:16:14.961277419\n",
       "min       0 days 00:00:04.620967\n",
       "25%       0 days 00:04:06.874086\n",
       "50%       0 days 00:10:50.951282\n",
       "75%       0 days 00:26:29.624067\n",
       "max       0 days 11:53:21.746908"
      ]
     },
     "execution_count": 56,
     "metadata": {},
     "output_type": "execute_result"
    }
   ],
   "source": [
    "# Statistical distribution of -cbk transactions that took place outside of Black Friday, grouped by user\n",
    "transactions.loc[~cbk_users_filter & (transactions['is_black_friday'] == False), ['user_id', 'transaction_time_delta']].groupby('user_id').mean().describe()"
   ]
  },
  {
   "cell_type": "code",
   "execution_count": 57,
   "id": "1232d62b",
   "metadata": {},
   "outputs": [
    {
     "data": {
      "text/html": [
       "<div>\n",
       "<style scoped>\n",
       "    .dataframe tbody tr th:only-of-type {\n",
       "        vertical-align: middle;\n",
       "    }\n",
       "\n",
       "    .dataframe tbody tr th {\n",
       "        vertical-align: top;\n",
       "    }\n",
       "\n",
       "    .dataframe thead th {\n",
       "        text-align: right;\n",
       "    }\n",
       "</style>\n",
       "<table border=\"1\" class=\"dataframe\">\n",
       "  <thead>\n",
       "    <tr style=\"text-align: right;\">\n",
       "      <th></th>\n",
       "      <th>transaction_time_delta</th>\n",
       "    </tr>\n",
       "  </thead>\n",
       "  <tbody>\n",
       "    <tr>\n",
       "      <th>count</th>\n",
       "      <td>38</td>\n",
       "    </tr>\n",
       "    <tr>\n",
       "      <th>mean</th>\n",
       "      <td>0 days 00:15:56.744209135</td>\n",
       "    </tr>\n",
       "    <tr>\n",
       "      <th>std</th>\n",
       "      <td>0 days 00:17:08.610103688</td>\n",
       "    </tr>\n",
       "    <tr>\n",
       "      <th>min</th>\n",
       "      <td>0 days 00:00:45.994820750</td>\n",
       "    </tr>\n",
       "    <tr>\n",
       "      <th>25%</th>\n",
       "      <td>0 days 00:06:36.931069375</td>\n",
       "    </tr>\n",
       "    <tr>\n",
       "      <th>50%</th>\n",
       "      <td>0 days 00:11:03.783728125</td>\n",
       "    </tr>\n",
       "    <tr>\n",
       "      <th>75%</th>\n",
       "      <td>0 days 00:18:21.557754500</td>\n",
       "    </tr>\n",
       "    <tr>\n",
       "      <th>max</th>\n",
       "      <td>0 days 01:21:35.828099</td>\n",
       "    </tr>\n",
       "  </tbody>\n",
       "</table>\n",
       "</div>"
      ],
      "text/plain": [
       "          transaction_time_delta\n",
       "count                         38\n",
       "mean   0 days 00:15:56.744209135\n",
       "std    0 days 00:17:08.610103688\n",
       "min    0 days 00:00:45.994820750\n",
       "25%    0 days 00:06:36.931069375\n",
       "50%    0 days 00:11:03.783728125\n",
       "75%    0 days 00:18:21.557754500\n",
       "max       0 days 01:21:35.828099"
      ]
     },
     "execution_count": 57,
     "metadata": {},
     "output_type": "execute_result"
    }
   ],
   "source": [
    "# Statistical distribution of +cbk transactions that took place outside of Black Friday, grouped by user\n",
    "transactions.loc[cbk_users_filter & (transactions['is_black_friday'] == False), ['user_id', 'transaction_time_delta']].groupby('user_id').mean().describe()"
   ]
  },
  {
   "cell_type": "markdown",
   "id": "b10cdede",
   "metadata": {},
   "source": [
    "##### During Black Friday"
   ]
  },
  {
   "cell_type": "code",
   "execution_count": 58,
   "id": "74548567",
   "metadata": {
    "scrolled": true
   },
   "outputs": [
    {
     "data": {
      "text/html": [
       "<div>\n",
       "<style scoped>\n",
       "    .dataframe tbody tr th:only-of-type {\n",
       "        vertical-align: middle;\n",
       "    }\n",
       "\n",
       "    .dataframe tbody tr th {\n",
       "        vertical-align: top;\n",
       "    }\n",
       "\n",
       "    .dataframe thead th {\n",
       "        text-align: right;\n",
       "    }\n",
       "</style>\n",
       "<table border=\"1\" class=\"dataframe\">\n",
       "  <thead>\n",
       "    <tr style=\"text-align: right;\">\n",
       "      <th></th>\n",
       "      <th>transaction_time_delta</th>\n",
       "    </tr>\n",
       "  </thead>\n",
       "  <tbody>\n",
       "    <tr>\n",
       "      <th>count</th>\n",
       "      <td>1730</td>\n",
       "    </tr>\n",
       "    <tr>\n",
       "      <th>mean</th>\n",
       "      <td>0 days 00:07:34.142880260</td>\n",
       "    </tr>\n",
       "    <tr>\n",
       "      <th>std</th>\n",
       "      <td>0 days 00:38:41.336706225</td>\n",
       "    </tr>\n",
       "    <tr>\n",
       "      <th>min</th>\n",
       "      <td>0 days 00:00:00.009406</td>\n",
       "    </tr>\n",
       "    <tr>\n",
       "      <th>25%</th>\n",
       "      <td>0 days 00:00:57.667138250</td>\n",
       "    </tr>\n",
       "    <tr>\n",
       "      <th>50%</th>\n",
       "      <td>0 days 00:02:29.234259</td>\n",
       "    </tr>\n",
       "    <tr>\n",
       "      <th>75%</th>\n",
       "      <td>0 days 00:05:26.235982</td>\n",
       "    </tr>\n",
       "    <tr>\n",
       "      <th>max</th>\n",
       "      <td>0 days 19:13:35.945613</td>\n",
       "    </tr>\n",
       "  </tbody>\n",
       "</table>\n",
       "</div>"
      ],
      "text/plain": [
       "          transaction_time_delta\n",
       "count                       1730\n",
       "mean   0 days 00:07:34.142880260\n",
       "std    0 days 00:38:41.336706225\n",
       "min       0 days 00:00:00.009406\n",
       "25%    0 days 00:00:57.667138250\n",
       "50%       0 days 00:02:29.234259\n",
       "75%       0 days 00:05:26.235982\n",
       "max       0 days 19:13:35.945613"
      ]
     },
     "execution_count": 58,
     "metadata": {},
     "output_type": "execute_result"
    }
   ],
   "source": [
    "# Statistical distribution of -cbk transactions that took place during of Black Friday, grouped by user\n",
    "transactions.loc[~cbk_users_filter & (transactions['is_black_friday'] == True), ['user_id', 'transaction_time_delta']].groupby('user_id').mean().describe()"
   ]
  },
  {
   "cell_type": "code",
   "execution_count": 59,
   "id": "b82817d0",
   "metadata": {
    "scrolled": false
   },
   "outputs": [
    {
     "data": {
      "text/html": [
       "<div>\n",
       "<style scoped>\n",
       "    .dataframe tbody tr th:only-of-type {\n",
       "        vertical-align: middle;\n",
       "    }\n",
       "\n",
       "    .dataframe tbody tr th {\n",
       "        vertical-align: top;\n",
       "    }\n",
       "\n",
       "    .dataframe thead th {\n",
       "        text-align: right;\n",
       "    }\n",
       "</style>\n",
       "<table border=\"1\" class=\"dataframe\">\n",
       "  <thead>\n",
       "    <tr style=\"text-align: right;\">\n",
       "      <th></th>\n",
       "      <th>transaction_time_delta</th>\n",
       "    </tr>\n",
       "  </thead>\n",
       "  <tbody>\n",
       "    <tr>\n",
       "      <th>count</th>\n",
       "      <td>126</td>\n",
       "    </tr>\n",
       "    <tr>\n",
       "      <th>mean</th>\n",
       "      <td>0 days 00:05:27.811796008</td>\n",
       "    </tr>\n",
       "    <tr>\n",
       "      <th>std</th>\n",
       "      <td>0 days 00:08:02.949684759</td>\n",
       "    </tr>\n",
       "    <tr>\n",
       "      <th>min</th>\n",
       "      <td>0 days 00:00:00.087964</td>\n",
       "    </tr>\n",
       "    <tr>\n",
       "      <th>25%</th>\n",
       "      <td>0 days 00:01:25.235094125</td>\n",
       "    </tr>\n",
       "    <tr>\n",
       "      <th>50%</th>\n",
       "      <td>0 days 00:03:00.984044916</td>\n",
       "    </tr>\n",
       "    <tr>\n",
       "      <th>75%</th>\n",
       "      <td>0 days 00:05:24.057766312</td>\n",
       "    </tr>\n",
       "    <tr>\n",
       "      <th>max</th>\n",
       "      <td>0 days 00:57:48.882803750</td>\n",
       "    </tr>\n",
       "  </tbody>\n",
       "</table>\n",
       "</div>"
      ],
      "text/plain": [
       "          transaction_time_delta\n",
       "count                        126\n",
       "mean   0 days 00:05:27.811796008\n",
       "std    0 days 00:08:02.949684759\n",
       "min       0 days 00:00:00.087964\n",
       "25%    0 days 00:01:25.235094125\n",
       "50%    0 days 00:03:00.984044916\n",
       "75%    0 days 00:05:24.057766312\n",
       "max    0 days 00:57:48.882803750"
      ]
     },
     "execution_count": 59,
     "metadata": {},
     "output_type": "execute_result"
    }
   ],
   "source": [
    "# Statistical distribution of +cbk transactions that took place during of Black Friday, grouped by user\n",
    "transactions.loc[cbk_users_filter & (transactions['is_black_friday'] == True), ['user_id', 'transaction_time_delta']].groupby('user_id').mean().describe()"
   ]
  },
  {
   "cell_type": "markdown",
   "id": "42bbc6b7",
   "metadata": {},
   "source": [
    "Due the distinct behavior of Outside/During Black Friday time frames, deviations from average `transaction_time_delta` should be measured separate from the other."
   ]
  },
  {
   "cell_type": "markdown",
   "id": "c0cd321e",
   "metadata": {},
   "source": [
    "#### Q4: Outside/During Black Friday, what users have more than 1 transaction?"
   ]
  },
  {
   "cell_type": "code",
   "execution_count": 193,
   "id": "b2c9a120",
   "metadata": {},
   "outputs": [
    {
     "name": "stdout",
     "output_type": "stream",
     "text": [
      "Users with more than 1 transaction outside BF:  16 , 1.63%\n",
      "Users with more than 1 transaction during BF:  75 , 3.38%\n"
     ]
    }
   ],
   "source": [
    "users_n_bf_transaction_number = transactions.loc[cbk_users_filter & (transactions['is_black_friday'] == False), ['user_id', 'transaction_id']].groupby('user_id').nunique()\n",
    "print('Users with more than 1 transaction outside BF: ', sum(users_n_bf_transaction_number['transaction_id'] > 1), ',', \"{0:.2%}\".format(sum(users_n_bf_transaction_number['transaction_id'] > 1) / sum(transactions['is_black_friday'] == False)))\n",
    "users_bf_transaction_number = transactions.loc[cbk_users_filter & (transactions['is_black_friday'] == True), ['user_id', 'transaction_id']].groupby('user_id').nunique()\n",
    "print('Users with more than 1 transaction during BF: ', sum(users_bf_transaction_number['transaction_id'] > 1), ',',  \"{0:.2%}\".format(sum(users_bf_transaction_number['transaction_id'] > 1) / sum(transactions['is_black_friday'] == True)))"
   ]
  },
  {
   "cell_type": "markdown",
   "id": "4e0eccf8",
   "metadata": {},
   "source": [
    "### 4.2. Conclusions"
   ]
  },
  {
   "cell_type": "markdown",
   "id": "dadf7529",
   "metadata": {},
   "source": [
    "By studying the user behavior, we have determined the following qualifiers for suspicious chargeback requests:\n",
    "\n",
    "- <b>Transactions belonging to customers with more than 1 chargeback request.</b>\n",
    "\n",
    "- <b>Transactions belonging to customers with no -cbk transactions.</b>\n",
    "\n",
    "- <b>Transactions belonging to customers with more than 1 credit card.</b>"
   ]
  },
  {
   "cell_type": "markdown",
   "id": "ea77bcf9",
   "metadata": {},
   "source": [
    "## 5. Summary of Conclusions"
   ]
  },
  {
   "cell_type": "markdown",
   "id": "b4a98123",
   "metadata": {},
   "source": [
    "In this explorative analysis, the studied data has the following broad characteristics:\n",
    "\n",
    "- Spans over the time frame 2019-11-01 to 2019-12-01 (31 days).\n",
    "\n",
    "- The transactions within this time span has a weekly pattern in the first 20 days, which is broken for transactions that occur over the final 11 days. Upon a Google search, we find that this period of time corresponds to the Black Friday event.\n",
    "\n",
    "- +cbk transactions comprise 12.2% of the total transactions, yet 23.1% of their total value.\n",
    "\n",
    "- The average time between +cbk transactions (6 minutes, 41 seconds) is less than half that of the average time between -cbk transactions (14 minutes, 57 seconds).\n",
    "\n",
    "Analyzing the transactions with respect to merchant behavior, we gathered that:\n",
    "\n",
    "- All +cbk transactions are contained within 118 establishments (merchants), which comprise 6.72% of the total unique establishments.\n",
    "\n",
    "- The +cbk transactions of 108/80/66 (91.5%/67.8%/55.9%) `cbk_merchants` exceed 50%/90%/100% of their total value of sales.\n",
    "\n",
    "- +cbk ransactions within the price ranges (400, 600], (800, 1000] ; (1800, 2000] ; (2400, 2600] ; (3800, ++) deviate significantly from -cbk transactions within the same price ranges.\n",
    "\n",
    "Analyzing the transactions with respect to merchant behavior, we gathered that:\n",
    "\n",
    "- 78.4% of customers that have at least one +cbk transaction (`cbk_users`) have no -cbk transactions.\n",
    "\n",
    "- 51.0% of `cbk_users` have more than 1 +cbk transactions.\n",
    "\n",
    "- 49.0% of `cbk_users` have more than 1 credit card.\n",
    "\n",
    "These properties led us to the following qualifiers for suspicious behavior in +cbk transactions:\n",
    "\n",
    "- <b>Those associated with merchants whose +cbk transactions comprise of more than 50% of the value of their sales.\n",
    "\n",
    "- <b>Those associated with `transaction_amount` that fall within the price ranges (400, 600], (800, 1000] ; (1800, 2000] ; (2400, 2600] ; (3800, ++).\n",
    "\n",
    "- <b>Those associated with customers that have no -cbk transactions.\n",
    "\n",
    "- <b>Those associated with customers that have more than 1 +cbk transactions.\n",
    "\n",
    "- <b>Those associated with customers that have more than 1 credit card."
   ]
  },
  {
   "cell_type": "code",
   "execution_count": null,
   "id": "092a7185",
   "metadata": {},
   "outputs": [],
   "source": []
  }
 ],
 "metadata": {
  "kernelspec": {
   "display_name": "Python 3 (ipykernel)",
   "language": "python",
   "name": "python3"
  },
  "language_info": {
   "codemirror_mode": {
    "name": "ipython",
    "version": 3
   },
   "file_extension": ".py",
   "mimetype": "text/x-python",
   "name": "python",
   "nbconvert_exporter": "python",
   "pygments_lexer": "ipython3",
   "version": "3.9.12"
  }
 },
 "nbformat": 4,
 "nbformat_minor": 5
}
